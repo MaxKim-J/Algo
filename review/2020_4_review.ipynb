{
 "cells": [
  {
   "cell_type": "markdown",
   "metadata": {},
   "source": [
    "# 4월 복습\n",
    "4월에 푼 문제들 복습"
   ]
  },
  {
   "cell_type": "markdown",
   "metadata": {},
   "source": [
    "## [1018. 체스판 칠하기](https://www.acmicpc.net/problem/1018)\n",
    "\n",
    "**백트랙킹 문제**\n",
    "\n",
    "- 못푼이유 1) 처음에 문제 이해를 잘 못해서 8*8부분을 못보고 그냥 전체를 체스판으로 만드는 경우의 수를 계산했음(반성하자;;)\n",
    "- 못푼이유 2) 결국 경우를 나눠서 계속 봐야한다는 생각은 했지만 실행에 옮기지 못함\n",
    "- 이차원 배열 쓰는게 코드가 제일 깔끔하다는 생각을 했어야댐...객기부리지 말구,,,2차원 배열을 왜 그렇게 쓰기 싫었는지,,,\n",
    "- 문제를 풀면서 문자열로 합친 후 8*8 경우를 모두 도는 for 문을 만들었다,, 뭔가 한번 해보고 싶었음,,\n",
    "- 사실 인덱스가 이렇게 복잡하면 풀이가 삼천포로 가고 있다는 생각을 했었어야 함,,,뭔가 한번 해보고 싶어서 하면 안되구 당위성을 가지고 움직이자"
   ]
  },
  {
   "cell_type": "code",
   "execution_count": 1,
   "metadata": {},
   "outputs": [],
   "source": [
    "def check_BW(ex):\n",
    "    # wbwbwb... 일때 몇개를 바꿔야 하는지 일일히 찾아보기\n",
    "    cnt1 = 0\n",
    "    for i in range(8):\n",
    "        for j in range(8):\n",
    "            i_ = (0 if i in [0,2,4,6] else 1)\n",
    "            j_ = (0 if j in [0,2,4,6] else 1)\n",
    "            if (i_==0 and j_==0) or (i_ == 1 and j_ ==1):\n",
    "                if ex[i][j] != \"B\":\n",
    "                    cnt1 += 1\n",
    "            if (i_==0 and j_==1) or (i_==1 and j_ ==0):\n",
    "                if ex[i][j] != \"W\":\n",
    "                    cnt1 += 1\n",
    "                    \n",
    "    # bwbwbw... 일때 몇개를 바꿔야 하는지 일일히 찾아보기\n",
    "    cnt2 = 0\n",
    "    for i in range(8):\n",
    "        for j in range(8):\n",
    "            i_ = (0 if i in [0, 2, 4, 6] else 1)\n",
    "            j_ = (0 if j in [0, 2, 4, 6] else 1)\n",
    "            # 0,0/0,2 등 짝수 === W가 들어갈 자리\n",
    "            if (i_ == 0 and j_ == 0) or (i_ == 1 and j_ == 1):\n",
    "                if ex[i][j] != \"W\":\n",
    "                    cnt2 += 1\n",
    "            # 0,1/0,3 등 홀수 === B가 들어갈 자리\n",
    "            if (i_ == 0 and j_ == 1) or (i_ == 1 and j_ == 0):\n",
    "                if ex[i][j] != \"B\":\n",
    "                    cnt2 += 1\n",
    "                    \n",
    "    return min(cnt1, cnt2)"
   ]
  },
  {
   "cell_type": "code",
   "execution_count": 3,
   "metadata": {},
   "outputs": [
    {
     "name": "stdout",
     "output_type": "stream",
     "text": [
      "12\n"
     ]
    }
   ],
   "source": [
    "n, m = 10, 13\n",
    "\n",
    "# 이차원 배열 사용\n",
    "check = []\n",
    "s = [\"BBBBBBBBWBWBW\", \"BBBBBBBBBWBWB\", \"BBBBBBBBWBWBW\", \"BBBBBBBBBWBWB\", \"BBBBBBBBWBWBW\",\n",
    "         \"BBBBBBBBBWBWB\", \"BBBBBBBBWBWBW\", \"BBBBBBBBBWBWB\", \"WWWWWWWWWWBWB\", \"WWWWWWWWWWBWB\"]\n",
    "\n",
    "# 8*8이 되는 모든 경우의 이차원배열을 잘라서 함수에 넣기\n",
    "\n",
    "for i in range(n-7):\n",
    "    for j in range(m-7):\n",
    "        ex = [z[(0+j):(8+j)] for z in s[(0+i):(8+i)]]\n",
    "        check.append(check_BW(ex))\n",
    "        \n",
    "print(min(check))"
   ]
  },
  {
   "cell_type": "markdown",
   "metadata": {},
   "source": [
    "## [1149. RGB거리](https://www.acmicpc.net/problem/1149)\n",
    "\n",
    "**DP**\n",
    "\n",
    "- 접근 자체는 잘 했다. 맨 앞이 빨,초,파 인 경우중에 최소값을 구하면 되는건데\n",
    "- 약간 백트랙킹 처럼 코드를 짠듯. 게다가 틀렸습니다 나왔는데 왠지 모르겟음;\n",
    "- 트리식으로 모든 경우를 트래킹해야하나 싶고 자신감이 좀 없었던 것 같음 => 그러면 그방법은 노노\n",
    "\n",
    "- 동적 계획법은 시간과 메모리를 줄여야 하므로, **자료형은 가급적 원래 있었던거 활용하자**\n",
    "- 시간은 앞값과 뒷값을 어떻게 이용할 수 있는지 생각해봐야 함, 가난하게 풀자!\n",
    "\n",
    "**업데이트를 하는 과정** : 반대로 생각해야 이해할 수 있음\n",
    "1. 배열에서 갱신되는 값은 그 집에 색을 칠했을 때 소요되는 최소비용(앞에 무슨 색 칠했는지 고려)\n",
    "2. 메모이제이션이 트래킹을 이길 수 있다 무슨 값을 저장해야되는지 생각하자"
   ]
  },
  {
   "cell_type": "code",
   "execution_count": 4,
   "metadata": {},
   "outputs": [
    {
     "name": "stdout",
     "output_type": "stream",
     "text": [
      "44\n"
     ]
    }
   ],
   "source": [
    "N = 3\n",
    "houses = [[25,34,23], [23,23,14], [17,5,23]]\n",
    "\n",
    "for i in range(1, len(houses)):\n",
    "    houses[i][0] = min(houses[i - 1][1], houses[i - 1][2]) + houses[i][0]\n",
    "    houses[i][1] = min(houses[i - 1][0], houses[i - 1][2]) + houses[i][1]\n",
    "    houses[i][2] = min(houses[i - 1][0], houses[i - 1][1]) + houses[i][2]\n",
    "print(min(houses[N - 1][0], houses[N - 1][1], houses[N - 1][2]))"
   ]
  },
  {
   "cell_type": "markdown",
   "metadata": {},
   "source": [
    "## [2579. 계단 오르기](https://www.acmicpc.net/problem/2579)\n",
    "\n",
    "**DP**\n",
    "\n",
    "- 동적 계획법 할때는 초기값으로 얼마나 확보할지 정해놔야함\n",
    "- 이 경우에는 전전전칸의 경우까지 생각해야 하므로 3개를 저장해놓는다\n",
    "- 어딜 기준으로 생각해야하는지 확실하게 정하자(앞? 뒤?) => 거기까지 왔을 때 어떻게 온걸까에 대한 작은 문제로 문제를 작게 만들기\n",
    "- **명징하고 논리적으로 개연성있게 생각하기 => 이건가???하고 찍는거 의미없음 시간만 나감**"
   ]
  },
  {
   "cell_type": "code",
   "execution_count": 5,
   "metadata": {},
   "outputs": [
    {
     "name": "stdout",
     "output_type": "stream",
     "text": [
      "75\n"
     ]
    }
   ],
   "source": [
    "N = 6\n",
    "stairs = [10,20,15,25,10,20]\n",
    "\n",
    "#! 예외처리 런타임에러 방지\n",
    "if N < 3:\n",
    "    result = sum(stairs)\n",
    "else:\n",
    "    dp = [stairs[0]]\n",
    "    #! dp시작할때 초기값으로 얼마나 확보할지 정하기\n",
    "    #! 이경우에는 전전전칸의 경우를 생각하므로 3개를 저장\n",
    "    dp.append(dp[0] + stairs[1])\n",
    "    dp.append(max(dp[0] + stairs[2], stairs[1]+stairs[2]))\n",
    "\n",
    "    for i in range(3, N):\n",
    "        # 전칸에서 올라왔거나 전전칸에서 올라온 경우의 max값\n",
    "        # 전전칸 : 지금계단 + 전전계단까지의 최대값\n",
    "        # 전칸 : 지금계단 + 전계단 + 전전전계단까지의 최대값\n",
    "        dp.append(max(stairs[i] + stairs[i-1] + dp[i-3], stairs[i] + dp[i-2]))\n",
    "    result = dp[-1]\n",
    "print(result)\n"
   ]
  },
  {
   "cell_type": "markdown",
   "metadata": {},
   "source": [
    "## [2580.스도쿠](https://www.acmicpc.net/problem/2580)\n",
    "\n",
    "**백트랙킹**\n",
    "\n",
    "- 백트랙킹 문제에서는 얼마나 반복을 최소화할 수 있을지에 대해 생각해야 한다\n",
    "- 유망 숫자 => 0을 순회하면서 한번에 뽑아야 한다고 생각해야함\n",
    "- 가능한 숫자의 리스트를 뽑아주자\n",
    "- 0의 위치만 받고, 그 0들을 채워나가는 식으로 백트랙킹"
   ]
  },
  {
   "cell_type": "code",
   "execution_count": 10,
   "metadata": {},
   "outputs": [],
   "source": [
    "sudoku = [\n",
    "    [0,3,5,4,6,9,2,7,8],\n",
    "    [7,8,2,1,0,5,6,0,9],\n",
    "    [0,6,0,2,7,8,1,3,5],\n",
    "    [3,2,1,0,4,6,8,9,7],\n",
    "    [8,0,4,9,1,3,5,0,6],\n",
    "    [5,9,6,8,2,0,4,1,3],\n",
    "    [9,1,7,6,5,2,0,8,0],\n",
    "    [6,0,3,7,0,1,9,5,2],\n",
    "    [2,5,8,3,9,4,7,6,0],\n",
    "]\n",
    "\n",
    "flag = False"
   ]
  },
  {
   "cell_type": "code",
   "execution_count": 11,
   "metadata": {},
   "outputs": [],
   "source": [
    "# 0의 좌표\n",
    "\n",
    "zeros = [(i, j) for i in range(9) for j in range(9) if sudoku[i][j] == 0]\n",
    "\n",
    "def is_promising(i, j):\n",
    "    promising = [1, 2, 3, 4, 5, 6, 7, 8, 9]\n",
    "\n",
    "    # 1~9 배열을 준비한 뒤에 있으면 하나씩 제해서 리턴\n",
    "    # 행과 열 검사\n",
    "    for k in range(9):\n",
    "        if sudoku[i][k] in promising:\n",
    "            promising.remove(sudoku[i][k])\n",
    "        if sudoku[k][j] in promising:\n",
    "            promising.remove(sudoku[k][j])\n",
    "\n",
    "    # 3*3 박스 검사\n",
    "    i //= 3\n",
    "    j //= 3\n",
    "    for p in range(i*3, (i+1)*3):\n",
    "        for q in range(j*3, (j+1)*3):\n",
    "            if sudoku[p][q] in promising:\n",
    "                promising.remove(sudoku[p][q])\n",
    "\n",
    "    return promising"
   ]
  },
  {
   "cell_type": "code",
   "execution_count": 12,
   "metadata": {},
   "outputs": [
    {
     "name": "stdout",
     "output_type": "stream",
     "text": [
      "1 3 5 4 6 9 2 7 8\n",
      "7 8 2 1 3 5 6 4 9\n",
      "4 6 9 2 7 8 1 3 5\n",
      "3 2 1 5 4 6 8 9 7\n",
      "8 7 4 9 1 3 5 2 6\n",
      "5 9 6 8 2 7 4 1 3\n",
      "9 1 7 6 5 2 3 8 4\n",
      "6 4 3 7 8 1 9 5 2\n",
      "2 5 8 3 9 4 7 6 1\n"
     ]
    }
   ],
   "source": [
    "def dfs(x):\n",
    "    global flag\n",
    "\n",
    "    if flag:  # 이미 답이 출력된 경우\n",
    "        return\n",
    "\n",
    "    if x == len(zeros):  # 마지막 0까지 다 채웠을 경우\n",
    "        for row in sudoku:\n",
    "            # 언패킹해서 출력\n",
    "            print(*row)\n",
    "        flag = True  # 답 출력\n",
    "        return\n",
    "\n",
    "    else:\n",
    "        (i, j) = zeros[x]\n",
    "        promising = is_promising(i, j)  # 유망한 숫자들을 받음\n",
    "\n",
    "        for num in promising:\n",
    "            sudoku[i][j] = num  # 유망한 숫자 중 하나를 넣어줌\n",
    "            dfs(x + 1)  # 다음 0으로 넘어감\n",
    "            #! 백트랙킹에서 재귀호출 후 다음 문이 실행되는건 답이 안나왔을 경우(len zero만큼 못간 경우)\n",
    "            #! dfs 타고 쭉 가고 난 후 답 출력될때까지 갔으면 이 뒤는 호출 안됨\n",
    "            #! 답이 없는 경우 : 유망한 숫자들이 하나도 안나올 경우에는 for문이 돌아가지 않는다 => dfs가 실행되지 않음 => 그동안 스도쿠에 써왔던 답 초기화해야함\n",
    "            sudoku[i][j] = 0  # 초기화 (정답이 없을 경우를 대비)\n",
    "\n",
    "\n",
    "dfs(0)"
   ]
  },
  {
   "cell_type": "markdown",
   "metadata": {},
   "source": [
    "## [11054.가장 긴 바이토닉 부분 수열](https://www.acmicpc.net/problem/11054)\n",
    "\n",
    "**DP**\n",
    "\n",
    "- 쉽게 생각하면 됐었다, 어느 기점으로 증가, 어느기점으로 감소(자료형을 뒤집을 수도 있겠구나라는 생각을 했어야 함)\n",
    "- 어느 기점으로 감소하는 수열을 구하기 위해서 자료형의 반대로 증가수열을 구해주는 방법으로다가"
   ]
  },
  {
   "cell_type": "code",
   "execution_count": 1,
   "metadata": {},
   "outputs": [
    {
     "name": "stdout",
     "output_type": "stream",
     "text": [
      "7\n"
     ]
    }
   ],
   "source": [
    "n = 10\n",
    "lst = [1,5,2,1,4,3,4,5,2,1]\n",
    "dp_left = [1] * n\n",
    "dp_right = [1] * n\n",
    "\n",
    "\n",
    "# 왼쪽에서부터 최대증가수열 구하기\n",
    "for i in range(n):\n",
    "    for j in range(i):\n",
    "        if lst[j] < lst[i]:\n",
    "            if dp_left[i] < dp_left[j] + 1:\n",
    "                dp_left[i] = dp_left[j] + 1\n",
    "\n",
    "\n",
    "# 오른쪽에서부터 최대 증가수열 구하기 range(시작점, -1, -1) : 첨부터끝까지 반대로\n",
    "# 이때 인덱스 역시 거꾸로 넣어야 한다\n",
    "for i in range(n - 1, -1, -1):\n",
    "    for j in range(n - 1, i, -1):\n",
    "        if lst[j] < lst[i]:\n",
    "            if dp_right[i] < dp_right[j] + 1:\n",
    "                dp_right[i] = dp_right[j] + 1\n",
    "\n",
    "                \n",
    "\n",
    "# 둘이 만나는 점을 기점으로 했을 때 거기까지 증가하는 최대 수열이 길이 + 거기서부터 감소하는 최대 수열의 길이\n",
    "dp = [dp_left[i] + dp_right[i] for i in range(n)]\n",
    "\n",
    "# 수열을 두번 구했으니 1이 두번 더해졌을 것이므로 하나는 뺀다\n",
    "print(max(dp) - 1)"
   ]
  },
  {
   "cell_type": "markdown",
   "metadata": {},
   "source": [
    "## [12015. 가장 긴 증가하는 부분 수열2](https://www.acmicpc.net/problem/12015)\n",
    "\n",
    "**이분탐색 이용해서 LIS 풀기**\n",
    "\n",
    "- 수열 배열을 따로 만들고, 이분타색으로 수열 배열에 있는 기존 수를 찾아 인덱스를 반환하거나\n",
    "- 큰 수가 나타나 미드가 갯수보다 올라가서 리스트 밖에서 값을 찾아야 하는 시점이 되면 그 값을 answer로 삼게 됨\n",
    "- 이분탐색으로 얻은 인덱스를 바탕으로 그 값이 수열 배열의 크기보다 크다면 맨 뒤에 있는 원소 추가\n",
    "- 그렇지 않다면 수를 바꿔준다 => 이래야 오름차순으로 유지 가능"
   ]
  },
  {
   "cell_type": "code",
   "execution_count": 5,
   "metadata": {},
   "outputs": [
    {
     "name": "stdout",
     "output_type": "stream",
     "text": [
      "4\n"
     ]
    }
   ],
   "source": [
    "N = 6\n",
    "num_list= [10,20,10,30,20,50]\n",
    "inc = []\n",
    "\n",
    "\n",
    "for num in num_list:\n",
    "    start, end = 0, len(inc)\n",
    "    answer = end\n",
    "    \n",
    "    # num값이 만약 증가수열에 들어간다면 몇번째 값인지를 리턴하는 while문\n",
    "    while (start <= end):\n",
    "        mid = (start+end)//2\n",
    "        \n",
    "        # 지금 증가수열의 모든 요소보다 클 경우 =>  mid가 len을 벗어날 때\n",
    "        if mid >= len(inc):\n",
    "            answer = mid\n",
    "            break\n",
    "            \n",
    "        # end를 줄일때마다 answer을 mid에 저장\n",
    "        # 증가수열에 있는 값보다 num이 작은 상황\n",
    "        if inc[mid] >= num:\n",
    "            answer = mid\n",
    "            end = mid-1\n",
    "        else:\n",
    "            start = mid+1\n",
    "            \n",
    "    # len보다 큰 값이라면 현재 증가수열보다도 큰 값 => 맨 끝에 붙여준다\n",
    "    if len(inc) <= answer:\n",
    "        inc.append(num)\n",
    "    # 아니라면 작은 값, 그 인덱스의 숫자를 바꿔준다(이래야 오름차순으로 정렬됨)\n",
    "    else:\n",
    "        inc[answer] = num\n",
    "\n",
    "print(len(inc))"
   ]
  },
  {
   "cell_type": "markdown",
   "metadata": {},
   "source": [
    "## [14888.연산자 끼워넣기](https://www.acmicpc.net/problem/14888)\n",
    "\n",
    "**백트랙킹**\n",
    "\n",
    "- 모든 경우의 수를 구하고 그 다음에 몰아서 연산을 하는 것 지양하고, 재귀 돌리면서 최대 최소 검증을 같이 수행해야 함\n",
    "- 분할정복에서 최소 최대값을 묻는 문제에서는 리스트로 모든 요소를 넣고 min으로 구하는 것보다 연산을 수행해 나가면서 최소값인지 타진하는게 더 낫다\n",
    "- 미루지 말고 그때그때 구할 수 있는 건 구하기"
   ]
  },
  {
   "cell_type": "code",
   "execution_count": 6,
   "metadata": {},
   "outputs": [
    {
     "name": "stdout",
     "output_type": "stream",
     "text": [
      "30\n",
      "30\n"
     ]
    }
   ],
   "source": [
    "N = 2\n",
    "num_list =[5,6]\n",
    "operands_input = [0,0,1,0]\n",
    "\n",
    "operands = []\n",
    "min_val, max_val = sys.maxsize, -sys.maxsize\n",
    "\n",
    "for idx, num in enumerate(operands_input):\n",
    "    operands += [idx]*num\n",
    "\n",
    "\n",
    "def calculate(default, new, operand):\n",
    "    if operand == 0:\n",
    "        return default + new\n",
    "    elif operand == 1:\n",
    "        return default - new\n",
    "    elif operand == 2:\n",
    "        return default * new\n",
    "    else:\n",
    "        if default < 0:\n",
    "            return -(abs(default) // new)\n",
    "        else:\n",
    "            return default//new\n",
    "\n",
    "\n",
    "def DFS(operands, current_result, count):\n",
    "    global min_val, max_val\n",
    "    # 연산의 끝\n",
    "    if count == N-1:\n",
    "        result = num_list[0]\n",
    "        for i in range(N-1):\n",
    "            new = num_list[i+1]\n",
    "            result = calculate(result, new, current_result[i])\n",
    "        # 최소최대 검증\n",
    "        if result < min_val:\n",
    "            min_val = result\n",
    "        if result > max_val:\n",
    "            max_val = result\n",
    "    # 연산 중일때\n",
    "    else:\n",
    "        # 연산자 배열을 순회\n",
    "        for operand in operands:\n",
    "            # 선택한 연산을 연산자 배열에서 제외시키고 DFS하기\n",
    "            new_operands = operands[:]\n",
    "            new_operands.remove(operand)\n",
    "            DFS(new_operands, current_result + [operand], count + 1)\n",
    "\n",
    "\n",
    "DFS(operands, [], 0)\n",
    "print(max_val)\n",
    "print(min_val)"
   ]
  },
  {
   "cell_type": "code",
   "execution_count": 7,
   "metadata": {},
   "outputs": [
    {
     "name": "stdout",
     "output_type": "stream",
     "text": [
      "30\n",
      "30\n"
     ]
    }
   ],
   "source": [
    "# 빠른 답안\n",
    "\n",
    "\n",
    "def calc(num, p, s, m, d, k=1):\n",
    "    global min_num, max_num\n",
    "    #! 그 많던 재귀함수들은 모두 여기서 모이고 전역변수를 업데이트하게 됨\n",
    "    if k == N:\n",
    "        if min_num > num:\n",
    "            min_num = num\n",
    "        if max_num < num:\n",
    "            max_num = num\n",
    "        return True\n",
    "\n",
    "    nxt = numbers[k]\n",
    "    #! 모두 거쳐야하는 if문으로 재귀를 발생시킨다 => 어떻게든 연산자를 하나씩 빼서 재귀를 진행시킨다\n",
    "    #! 이렇게 다른 뎁쓰의 재귀함수를 부를때 연산 한 값을 또 넘긴다. 재귀호출과 동시에 값을 연산하고 있다\n",
    "    if p > 0:\n",
    "        calc(num+nxt, p-1, s, m, d, k+1)\n",
    "    if s > 0:\n",
    "        calc(num-nxt, p, s-1, m, d, k+1)\n",
    "    if m > 0:\n",
    "        calc(num*nxt, p, s, m-1, d, k+1)\n",
    "    if d > 0:\n",
    "        calc(int(num/nxt), p, s, m, d-1, k+1)\n",
    "\n",
    "\n",
    "N = 2\n",
    "numbers = [5,6]\n",
    "plus, sub, mul, div = 0,0,1,0\n",
    "\n",
    "cur = numbers[0]\n",
    "min_num = 10 ** 9\n",
    "max_num = (10 ** 9) * -1\n",
    "\n",
    "calc(cur, plus, sub, mul, div)\n",
    "\n",
    "print(max_num)\n",
    "print(min_num)"
   ]
  },
  {
   "cell_type": "markdown",
   "metadata": {},
   "source": [
    "## [14889.스타트와 링크](https://www.acmicpc.net/problem/14889)\n",
    "\n",
    "**백트랙킹**\n",
    "\n",
    "- 수많은 조합을 구해야 하는 백트랙킹 문제는 이터툴 모듈로 푸는 걸 고려해야 함\n",
    "- 이터툴 조합 : combinations(이터러블 객체, 뽑는개수)\n",
    "- 이터툴 순열 : permutaitions(이터러블 객체, 뽑는개수) - 중복을 허용한다\n",
    "- 이터툴 배열의곱: product(이터러블 객체*, 반복 수)"
   ]
  },
  {
   "cell_type": "code",
   "execution_count": null,
   "metadata": {},
   "outputs": [],
   "source": [
    "from itertools import combinations\n",
    "\n",
    "N = 4\n",
    "ability_board = [[0,1,2,3],[4,0,5,6],[7,1,0,2],[3,4,5,0]]\n",
    "\n",
    "num_list = [i for i in range(N)]\n",
    "res = float('inf')\n",
    "\n",
    "def solve():\n",
    "    global res\n",
    "    \n",
    "    #! 조합을 이용하여 각 후보자를 생성함, 8c4로 뽑을 수 있는 모든 경우의수를 비교\n",
    "    for cand in combinations(num_list, N // 2):\n",
    "        #! 선택된 후보와 나머지로 팀을 가른다 feat 집합\n",
    "        #* 이 방법도 생각을 안해본건 아닌데 재귀를 돌려야한다는 생각이 커서\n",
    "        #* 재귀 과정에서 계산이 이루어지는 걸 원했기 때문에 이렇게 못함\n",
    "        #* 하지만 이터툴의 속도라면? ㅆㄱㄴ이었다고 한다\n",
    "        start_member = list(cand)\n",
    "        link_member = list(set(num_list) - set(cand))\n",
    "        \n",
    "        #! 여기서도 조합을 구해버린다 그렇게 조합을 두번 구한다..\n",
    "        start_comb = list(combinations(start_member, 2))\n",
    "        link_comb = list(combinations(link_member, 2))\n",
    "        \n",
    "        #! 점수 구하기\n",
    "        start_sum = 0\n",
    "        #* 조합 리스트를 돌리면서 계산한다\n",
    "        for x, y in start_comb:\n",
    "            start_sum += (ability_board[x][y] + ability_board[y][x])\n",
    "            \n",
    "        link_sum = 0\n",
    "        for x, y in link_comb:\n",
    "            link_sum += (ability_board[x][y] + ability_board[y][x])\n",
    "        \n",
    "        #! 차이를 구하는 것이므로 abs 사용\n",
    "        if(res > abs(start_sum - link_sum)):\n",
    "            res = abs(start_sum - link_sum)\n",
    "            \n",
    "solve()\n",
    "print(res)"
   ]
  }
 ],
 "metadata": {
  "kernelspec": {
   "display_name": "Python 3",
   "language": "python",
   "name": "python3"
  },
  "language_info": {
   "codemirror_mode": {
    "name": "ipython",
    "version": 3
   },
   "file_extension": ".py",
   "mimetype": "text/x-python",
   "name": "python",
   "nbconvert_exporter": "python",
   "pygments_lexer": "ipython3",
   "version": "3.7.3"
  }
 },
 "nbformat": 4,
 "nbformat_minor": 4
}
