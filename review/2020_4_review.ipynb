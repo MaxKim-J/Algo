{
 "cells": [
  {
   "cell_type": "markdown",
   "metadata": {},
   "source": [
    "# 4월 복습\n",
    "4월에 푼 문제들 복습"
   ]
  },
  {
   "cell_type": "markdown",
   "metadata": {},
   "source": [
    "## [1018. 체스판 칠하기](https://www.acmicpc.net/problem/1018)\n",
    "\n",
    "**백트랙킹 문제**\n",
    "\n",
    "- 못푼이유 1) 처음에 문제 이해를 잘 못해서 8*8부분을 못보고 그냥 전체를 체스판으로 만드는 경우의 수를 계산했음(반성하자;;)\n",
    "- 못푼이유 2) 결국 경우를 나눠서 계속 봐야한다는 생각은 했지만 실행에 옮기지 못함\n",
    "- 이차원 배열 쓰는게 코드가 제일 깔끔하다는 생각을 했어야댐...객기부리지 말구,,,2차원 배열을 왜 그렇게 쓰기 싫었는지,,,\n",
    "- 문제를 풀면서 문자열로 합친 후 8*8 경우를 모두 도는 for 문을 만들었다,, 뭔가 한번 해보고 싶었음,,\n",
    "- 사실 인덱스가 이렇게 복잡하면 풀이가 삼천포로 가고 있다는 생각을 했었어야 함,,,뭔가 한번 해보고 싶어서 하면 안되구 당위성을 가지고 움직이자"
   ]
  },
  {
   "cell_type": "code",
   "execution_count": 1,
   "metadata": {},
   "outputs": [],
   "source": [
    "def check_BW(ex):\n",
    "    # wbwbwb... 일때 몇개를 바꿔야 하는지 일일히 찾아보기\n",
    "    cnt1 = 0\n",
    "    for i in range(8):\n",
    "        for j in range(8):\n",
    "            i_ = (0 if i in [0,2,4,6] else 1)\n",
    "            j_ = (0 if j in [0,2,4,6] else 1)\n",
    "            if (i_==0 and j_==0) or (i_ == 1 and j_ ==1):\n",
    "                if ex[i][j] != \"B\":\n",
    "                    cnt1 += 1\n",
    "            if (i_==0 and j_==1) or (i_==1 and j_ ==0):\n",
    "                if ex[i][j] != \"W\":\n",
    "                    cnt1 += 1\n",
    "                    \n",
    "    # bwbwbw... 일때 몇개를 바꿔야 하는지 일일히 찾아보기\n",
    "    cnt2 = 0\n",
    "    for i in range(8):\n",
    "        for j in range(8):\n",
    "            i_ = (0 if i in [0, 2, 4, 6] else 1)\n",
    "            j_ = (0 if j in [0, 2, 4, 6] else 1)\n",
    "            # 0,0/0,2 등 짝수 === W가 들어갈 자리\n",
    "            if (i_ == 0 and j_ == 0) or (i_ == 1 and j_ == 1):\n",
    "                if ex[i][j] != \"W\":\n",
    "                    cnt2 += 1\n",
    "            # 0,1/0,3 등 홀수 === B가 들어갈 자리\n",
    "            if (i_ == 0 and j_ == 1) or (i_ == 1 and j_ == 0):\n",
    "                if ex[i][j] != \"B\":\n",
    "                    cnt2 += 1\n",
    "                    \n",
    "    return min(cnt1, cnt2)"
   ]
  },
  {
   "cell_type": "code",
   "execution_count": 3,
   "metadata": {},
   "outputs": [
    {
     "name": "stdout",
     "output_type": "stream",
     "text": [
      "12\n"
     ]
    }
   ],
   "source": [
    "n, m = 10, 13\n",
    "\n",
    "# 이차원 배열 사용\n",
    "check = []\n",
    "s = [\"BBBBBBBBWBWBW\", \"BBBBBBBBBWBWB\", \"BBBBBBBBWBWBW\", \"BBBBBBBBBWBWB\", \"BBBBBBBBWBWBW\",\n",
    "         \"BBBBBBBBBWBWB\", \"BBBBBBBBWBWBW\", \"BBBBBBBBBWBWB\", \"WWWWWWWWWWBWB\", \"WWWWWWWWWWBWB\"]\n",
    "\n",
    "# 8*8이 되는 모든 경우의 이차원배열을 잘라서 함수에 넣기\n",
    "\n",
    "for i in range(n-7):\n",
    "    for j in range(m-7):\n",
    "        ex = [z[(0+j):(8+j)] for z in s[(0+i):(8+i)]]\n",
    "        check.append(check_BW(ex))\n",
    "        \n",
    "print(min(check))"
   ]
  },
  {
   "cell_type": "markdown",
   "metadata": {},
   "source": [
    "## [1149. RGB거리](https://www.acmicpc.net/problem/1149)\n",
    "\n",
    "**DP**\n",
    "\n",
    "- 접근 자체는 잘 했다. 맨 앞이 빨,초,파 인 경우중에 최소값을 구하면 되는건데\n",
    "- 약간 백트랙킹 처럼 코드를 짠듯. 게다가 틀렸습니다 나왔는데 왠지 모르겟음;\n",
    "- 트리식으로 모든 경우를 트래킹해야하나 싶고 자신감이 좀 없었던 것 같음 => 그러면 그방법은 노노\n",
    "\n",
    "- 동적 계획법은 시간과 메모리를 줄여야 하므로, **자료형은 가급적 원래 있었던거 활용하자**\n",
    "- 시간은 앞값과 뒷값을 어떻게 이용할 수 있는지 생각해봐야 함, 가난하게 풀자!\n",
    "\n",
    "**업데이트를 하는 과정** : 반대로 생각해야 이해할 수 있음\n",
    "1. 배열에서 갱신되는 값은 그 집에 색을 칠했을 때 소요되는 최소비용(앞에 무슨 색 칠했는지 고려)\n",
    "2. 메모이제이션이 트래킹을 이길 수 있다 무슨 값을 저장해야되는지 생각하자"
   ]
  },
  {
   "cell_type": "code",
   "execution_count": 4,
   "metadata": {},
   "outputs": [
    {
     "name": "stdout",
     "output_type": "stream",
     "text": [
      "44\n"
     ]
    }
   ],
   "source": [
    "N = 3\n",
    "houses = [[25,34,23], [23,23,14], [17,5,23]]\n",
    "\n",
    "for i in range(1, len(houses)):\n",
    "    houses[i][0] = min(houses[i - 1][1], houses[i - 1][2]) + houses[i][0]\n",
    "    houses[i][1] = min(houses[i - 1][0], houses[i - 1][2]) + houses[i][1]\n",
    "    houses[i][2] = min(houses[i - 1][0], houses[i - 1][1]) + houses[i][2]\n",
    "print(min(houses[N - 1][0], houses[N - 1][1], houses[N - 1][2]))"
   ]
  },
  {
   "cell_type": "markdown",
   "metadata": {},
   "source": [
    "## [2579. 계단 오르기](https://www.acmicpc.net/problem/2579)\n",
    "\n",
    "**DP**\n",
    "\n",
    "- 동적 계획법 할때는 초기값으로 얼마나 확보할지 정해놔야함\n",
    "- 이 경우에는 전전전칸의 경우까지 생각해야 하므로 3개를 저장해놓는다\n",
    "- 어딜 기준으로 생각해야하는지 확실하게 정하자(앞? 뒤?) => 거기까지 왔을 때 어떻게 온걸까에 대한 작은 문제로 문제를 작게 만들기\n",
    "- **명징하고 논리적으로 개연성있게 생각하기 => 이건가???하고 찍는거 의미없음 시간만 나감**"
   ]
  },
  {
   "cell_type": "code",
   "execution_count": 5,
   "metadata": {},
   "outputs": [
    {
     "name": "stdout",
     "output_type": "stream",
     "text": [
      "75\n"
     ]
    }
   ],
   "source": [
    "N = 6\n",
    "stairs = [10,20,15,25,10,20]\n",
    "\n",
    "#! 예외처리 런타임에러 방지\n",
    "if N < 3:\n",
    "    result = sum(stairs)\n",
    "else:\n",
    "    dp = [stairs[0]]\n",
    "    #! dp시작할때 초기값으로 얼마나 확보할지 정하기\n",
    "    #! 이경우에는 전전전칸의 경우를 생각하므로 3개를 저장\n",
    "    dp.append(dp[0] + stairs[1])\n",
    "    dp.append(max(dp[0] + stairs[2], stairs[1]+stairs[2]))\n",
    "\n",
    "    for i in range(3, N):\n",
    "        # 전칸에서 올라왔거나 전전칸에서 올라온 경우의 max값\n",
    "        # 전전칸 : 지금계단 + 전전계단까지의 최대값\n",
    "        # 전칸 : 지금계단 + 전계단 + 전전전계단까지의 최대값\n",
    "        dp.append(max(stairs[i] + stairs[i-1] + dp[i-3], stairs[i] + dp[i-2]))\n",
    "    result = dp[-1]\n",
    "print(result)\n"
   ]
  },
  {
   "cell_type": "markdown",
   "metadata": {},
   "source": [
    "## [2580.스도쿠](https://www.acmicpc.net/problem/2580)\n",
    "\n",
    "**백트랙킹**\n",
    "\n",
    "- 백트랙킹 문제에서는 얼마나 반복을 최소화할 수 있을지에 대해 생각해야 한다\n",
    "- 유망 숫자 => 0을 순회하면서 한번에 뽑아야 한다고 생각해야함\n",
    "- 가능한 숫자의 리스트를 뽑아주자\n",
    "- 0의 위치만 받고, 그 0들을 채워나가는 식으로 백트랙킹"
   ]
  },
  {
   "cell_type": "code",
   "execution_count": 10,
   "metadata": {},
   "outputs": [],
   "source": [
    "sudoku = [\n",
    "    [0,3,5,4,6,9,2,7,8],\n",
    "    [7,8,2,1,0,5,6,0,9],\n",
    "    [0,6,0,2,7,8,1,3,5],\n",
    "    [3,2,1,0,4,6,8,9,7],\n",
    "    [8,0,4,9,1,3,5,0,6],\n",
    "    [5,9,6,8,2,0,4,1,3],\n",
    "    [9,1,7,6,5,2,0,8,0],\n",
    "    [6,0,3,7,0,1,9,5,2],\n",
    "    [2,5,8,3,9,4,7,6,0],\n",
    "]\n",
    "\n",
    "flag = False"
   ]
  },
  {
   "cell_type": "code",
   "execution_count": 11,
   "metadata": {},
   "outputs": [],
   "source": [
    "# 0의 좌표\n",
    "\n",
    "zeros = [(i, j) for i in range(9) for j in range(9) if sudoku[i][j] == 0]\n",
    "\n",
    "def is_promising(i, j):\n",
    "    promising = [1, 2, 3, 4, 5, 6, 7, 8, 9]\n",
    "\n",
    "    # 1~9 배열을 준비한 뒤에 있으면 하나씩 제해서 리턴\n",
    "    # 행과 열 검사\n",
    "    for k in range(9):\n",
    "        if sudoku[i][k] in promising:\n",
    "            promising.remove(sudoku[i][k])\n",
    "        if sudoku[k][j] in promising:\n",
    "            promising.remove(sudoku[k][j])\n",
    "\n",
    "    # 3*3 박스 검사\n",
    "    i //= 3\n",
    "    j //= 3\n",
    "    for p in range(i*3, (i+1)*3):\n",
    "        for q in range(j*3, (j+1)*3):\n",
    "            if sudoku[p][q] in promising:\n",
    "                promising.remove(sudoku[p][q])\n",
    "\n",
    "    return promising"
   ]
  },
  {
   "cell_type": "code",
   "execution_count": 12,
   "metadata": {},
   "outputs": [
    {
     "name": "stdout",
     "output_type": "stream",
     "text": [
      "1 3 5 4 6 9 2 7 8\n",
      "7 8 2 1 3 5 6 4 9\n",
      "4 6 9 2 7 8 1 3 5\n",
      "3 2 1 5 4 6 8 9 7\n",
      "8 7 4 9 1 3 5 2 6\n",
      "5 9 6 8 2 7 4 1 3\n",
      "9 1 7 6 5 2 3 8 4\n",
      "6 4 3 7 8 1 9 5 2\n",
      "2 5 8 3 9 4 7 6 1\n"
     ]
    }
   ],
   "source": [
    "def dfs(x):\n",
    "    global flag\n",
    "\n",
    "    if flag:  # 이미 답이 출력된 경우\n",
    "        return\n",
    "\n",
    "    if x == len(zeros):  # 마지막 0까지 다 채웠을 경우\n",
    "        for row in sudoku:\n",
    "            # 언패킹해서 출력\n",
    "            print(*row)\n",
    "        flag = True  # 답 출력\n",
    "        return\n",
    "\n",
    "    else:\n",
    "        (i, j) = zeros[x]\n",
    "        promising = is_promising(i, j)  # 유망한 숫자들을 받음\n",
    "\n",
    "        for num in promising:\n",
    "            sudoku[i][j] = num  # 유망한 숫자 중 하나를 넣어줌\n",
    "            dfs(x + 1)  # 다음 0으로 넘어감\n",
    "            #! 백트랙킹에서 재귀호출 후 다음 문이 실행되는건 답이 안나왔을 경우(len zero만큼 못간 경우)\n",
    "            #! dfs 타고 쭉 가고 난 후 답 출력될때까지 갔으면 이 뒤는 호출 안됨\n",
    "            #! 답이 없는 경우 : 유망한 숫자들이 하나도 안나올 경우에는 for문이 돌아가지 않는다 => dfs가 실행되지 않음 => 그동안 스도쿠에 써왔던 답 초기화해야함\n",
    "            sudoku[i][j] = 0  # 초기화 (정답이 없을 경우를 대비)\n",
    "\n",
    "\n",
    "dfs(0)"
   ]
  }
 ],
 "metadata": {
  "kernelspec": {
   "display_name": "Python 3",
   "language": "python",
   "name": "python3"
  },
  "language_info": {
   "codemirror_mode": {
    "name": "ipython",
    "version": 3
   },
   "file_extension": ".py",
   "mimetype": "text/x-python",
   "name": "python",
   "nbconvert_exporter": "python",
   "pygments_lexer": "ipython3",
   "version": "3.7.3"
  }
 },
 "nbformat": 4,
 "nbformat_minor": 4
}
