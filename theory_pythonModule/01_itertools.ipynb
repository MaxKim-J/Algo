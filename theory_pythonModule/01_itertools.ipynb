{
 "cells": [
  {
   "cell_type": "markdown",
   "metadata": {},
   "source": [
    "# 01_itertools 모듈\n",
    "2020.04.06  \n",
    "반복 가능한 데이터 스트림을 처리하는 데 유용한 함수와 제네레이터가 포함되어 있음  \n",
    "자신만의 반복자를 만드는 훌륭한 모듈  \n",
    "제너레이터, 이터레이터로 반복이나 순회를 처리하면 이터러블 객체보다는 저수준에서 연산되는거라 더 빠르기도 하다"
   ]
  },
  {
   "cell_type": "markdown",
   "metadata": {},
   "source": [
    "## 메서드들\n",
    "\n",
    "### count\n",
    "`count(시작, [step])` : 시작 숫자부터 `step`만큼 씩 무한히 증가하는 제네레이터  \n",
    "\n",
    "### islice\n",
    "`islice(iterable객체, [시작], 정지[,step])` : iterable한 객체를 특정 범위로 슬라이싱하고 **iterator**로 반환\n"
   ]
  },
  {
   "cell_type": "code",
   "execution_count": 4,
   "metadata": {},
   "outputs": [],
   "source": [
    "def is_prime(x):\n",
    "    if x > 1:\n",
    "        for i in range(2, x):\n",
    "           if x % i == 0:\n",
    "             return False\n",
    "    else:\n",
    "        return False\n",
    "    return True"
   ]
  },
  {
   "cell_type": "code",
   "execution_count": 11,
   "metadata": {},
   "outputs": [
    {
     "data": {
      "text/plain": [
       "2"
      ]
     },
     "execution_count": 11,
     "metadata": {},
     "output_type": "execute_result"
    }
   ],
   "source": [
    "from itertools import islice, count\n",
    "\n",
    "# 1부터 증가하는 제너레이터에서 소수인거 10개 찾아서 바로 이터레이터로 만듬\n",
    "hundred_primes = islice((x for x in count(1) if is_prime(x)),10)\n",
    "next(hundred_primes)"
   ]
  },
  {
   "cell_type": "code",
   "execution_count": 12,
   "metadata": {},
   "outputs": [
    {
     "name": "stdout",
     "output_type": "stream",
     "text": [
      "[3, 5, 7, 11, 13, 17, 19, 23, 29]\n"
     ]
    }
   ],
   "source": [
    "print(list(hundred_primes))"
   ]
  },
  {
   "cell_type": "markdown",
   "metadata": {},
   "source": [
    "### izip\n",
    "`izip(이터러블 객체, 이터러블 객체)` : zip이랑 똑같은데 성능 향상을 위해 이터러블 객체를 반환"
   ]
  },
  {
   "cell_type": "markdown",
   "metadata": {},
   "source": [
    "### tee\n",
    "`tee(이터러블 객체, [복사본 갯수])` : 이터레이터 복사본을 갯수만큼 만듬"
   ]
  },
  {
   "cell_type": "code",
   "execution_count": 16,
   "metadata": {},
   "outputs": [
    {
     "name": "stdout",
     "output_type": "stream",
     "text": [
      "[0, 1, 2, 3, 4, 5] (0, 1, 2, 3, 4, 5) (0, 1, 2, 3, 4, 5)\n"
     ]
    }
   ],
   "source": [
    "from itertools import tee\n",
    "\n",
    "i1,i2,i3 = tee(range(6),3)\n",
    "\n",
    "print(list(i1),tuple(i2),tuple(i3))"
   ]
  },
  {
   "cell_type": "markdown",
   "metadata": {},
   "source": [
    "### repeat\n",
    "`repeat(요소, 횟수)` : 요소를 횟수만큼 반복하는 이터레이터를 만듬\n",
    "\n",
    "### cycle\n",
    "`cycle(이터러블 객체)` : 이터러블 객체를 반복적으로 생성"
   ]
  },
  {
   "cell_type": "code",
   "execution_count": 18,
   "metadata": {},
   "outputs": [
    {
     "name": "stdout",
     "output_type": "stream",
     "text": [
      "['Hello, world!', 'Hello, world!', 'Hello, world!']\n"
     ]
    }
   ],
   "source": [
    "from itertools import repeat, cycle\n",
    "\n",
    "print(list(repeat('Hello, world!', 3)))"
   ]
  },
  {
   "cell_type": "code",
   "execution_count": 22,
   "metadata": {},
   "outputs": [
    {
     "name": "stdout",
     "output_type": "stream",
     "text": [
      "0: a\n",
      "1: b\n",
      "0: c\n",
      "1: d\n",
      "0: e\n"
     ]
    }
   ],
   "source": [
    "# cycle은 계속 반복되므로 zip등의 함수에서 들어온 다른 인자에 그 값이 한정됨\n",
    "\n",
    "for number, letter in zip(cycle(range(2)), ['a', 'b', 'c', 'd', 'e']):\n",
    "    print('{0}: {1}'.format(number, letter))"
   ]
  },
  {
   "cell_type": "markdown",
   "metadata": {},
   "source": [
    "### product\n",
    "`product(*args, repeat=1)` : 이터러블 객체의 곱집합을 구하는 메서드 약간 조합 개념인데  \n",
    "이터러블 객체의 수만큼(args) 이터러블 객체의 요소들로 가능한 집합들이 이터레이터로 제공됨"
   ]
  },
  {
   "cell_type": "code",
   "execution_count": 24,
   "metadata": {},
   "outputs": [
    {
     "name": "stdout",
     "output_type": "stream",
     "text": [
      "[(0, 0, 0), (0, 0, 1), (0, 1, 0), (0, 1, 1), (1, 0, 0), (1, 0, 1), (1, 1, 0), (1, 1, 1)]\n"
     ]
    }
   ],
   "source": [
    "from itertools import product\n",
    "\n",
    "print(list(product(range(2), repeat=3)))"
   ]
  },
  {
   "cell_type": "code",
   "execution_count": 26,
   "metadata": {},
   "outputs": [
    {
     "name": "stdout",
     "output_type": "stream",
     "text": [
      "[(1, 10, 11), (1, 10, 21), (1, 10, 31), (1, 10, 41), (1, 10, 51), (1, 10, 61), (1, 100, 11), (1, 100, 21), (1, 100, 31), (1, 100, 41), (1, 100, 51), (1, 100, 61), (1, 1000, 11), (1, 1000, 21), (1, 1000, 31), (1, 1000, 41), (1, 1000, 51), (1, 1000, 61), (2, 10, 11), (2, 10, 21), (2, 10, 31), (2, 10, 41), (2, 10, 51), (2, 10, 61), (2, 100, 11), (2, 100, 21), (2, 100, 31), (2, 100, 41), (2, 100, 51), (2, 100, 61), (2, 1000, 11), (2, 1000, 21), (2, 1000, 31), (2, 1000, 41), (2, 1000, 51), (2, 1000, 61), (3, 10, 11), (3, 10, 21), (3, 10, 31), (3, 10, 41), (3, 10, 51), (3, 10, 61), (3, 100, 11), (3, 100, 21), (3, 100, 31), (3, 100, 41), (3, 100, 51), (3, 100, 61), (3, 1000, 11), (3, 1000, 21), (3, 1000, 31), (3, 1000, 41), (3, 1000, 51), (3, 1000, 61), (4, 10, 11), (4, 10, 21), (4, 10, 31), (4, 10, 41), (4, 10, 51), (4, 10, 61), (4, 100, 11), (4, 100, 21), (4, 100, 31), (4, 100, 41), (4, 100, 51), (4, 100, 61), (4, 1000, 11), (4, 1000, 21), (4, 1000, 31), (4, 1000, 41), (4, 1000, 51), (4, 1000, 61)]\n"
     ]
    }
   ],
   "source": [
    "# 이터러블 객체가 두개 이상이면 조합처럼 나옴\n",
    "# 가능한 모든 조합 6*4*4개가 튜플로 나옴\n",
    "\n",
    "print(list(product([1,2,3,4],[10,100,1000],[11,21,31,41,51,61])))"
   ]
  },
  {
   "cell_type": "code",
   "execution_count": 32,
   "metadata": {},
   "outputs": [
    {
     "name": "stdout",
     "output_type": "stream",
     "text": [
      "4 2\n",
      "1 1\n",
      "1 2\n",
      "1 3\n",
      "1 4\n",
      "2 1\n",
      "2 2\n",
      "2 3\n",
      "2 4\n",
      "3 1\n",
      "3 2\n",
      "3 3\n",
      "3 4\n",
      "4 1\n",
      "4 2\n",
      "4 3\n",
      "4 4\n"
     ]
    }
   ],
   "source": [
    "# 백준 15651 N과 M(3)\n",
    "\n",
    "a, b = map(int, input().split())\n",
    "arr = [i+1 for i in range(a)]\n",
    "\n",
    "# 1) 이터러블 객체인 arr을 str로 다 바꿔버린 map 이터레이터를 b개 만큼 뽑았을 때의 모든 경우의 수를 표현하는 곱집합 이터레이터로 바꾼다(복잡;;;)\n",
    "# 2) 그 이터레이터의 요소들을 공백 조인 함수를 적용한다 그러면 (\"1\",\"2\",\"3\") 요렇게 되있는게 \"1 2 3\" 이렇게 바뀐 맵이터레이터가 된다\n",
    "# 3) 맵이터레이터를 리스트로 바꾸고 그 리스트의 요소들은 모두 문자열이므로 또 조인함수를 사용해서 줄바꿈을 넣는다\n",
    "# 4) 끗!\n",
    "print('\\n'.join(list(map(' '.join, product(map(str, arr), repeat=b)))))"
   ]
  },
  {
   "cell_type": "code",
   "execution_count": null,
   "metadata": {},
   "outputs": [],
   "source": []
  }
 ],
 "metadata": {
  "kernelspec": {
   "display_name": "Python 3",
   "language": "python",
   "name": "python3"
  },
  "language_info": {
   "codemirror_mode": {
    "name": "ipython",
    "version": 3
   },
   "file_extension": ".py",
   "mimetype": "text/x-python",
   "name": "python",
   "nbconvert_exporter": "python",
   "pygments_lexer": "ipython3",
   "version": "3.7.3"
  }
 },
 "nbformat": 4,
 "nbformat_minor": 4
}
