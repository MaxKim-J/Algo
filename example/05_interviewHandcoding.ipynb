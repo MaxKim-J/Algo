{
 "cells": [
  {
   "cell_type": "markdown",
   "metadata": {},
   "source": [
    "# 기술면접 손코딩 연습\n",
    "\n",
    "- 문제 설명은 하나라도 놓치지 않고 들어야 함\n",
    "- 세세한 문구 하나하나에 조건이 숨겨져 있을 수 있음\n",
    "- 조건을 놓치면 요구되지 않은 프로그램을 작성할 수 있음\n",
    "- 애매하게 이야기한 부분은 짚고 넘어가기(미리 물어보기 필수우) => 의도적으로 애매하게 이야기해서 명확하게 커뮤니케이션 할 수 있는지\n",
    "- 효율적으로 시간복잡도를 계산하면서 답안 작성\n",
    "- 단순히 풀 수 있는지를 보는거는 아님\n",
    "\n",
    "## 단계\n",
    "1. 문제 듣기\n",
    "2. **예제를 통해 문제 이해**(인풋과 아웃풋) : 예제를 상정하면 질문을 할 수 있다 + 이렇게 하면 좋을거같은데, 취지에 맞을거같은데 **논의**\n",
    "3. 무식하게(일단) 풀기\n",
    "4. 질문자와 커뮤니케이션해서 개선하기\n",
    "5. 마이너한 부분 최적화\n",
    "6. 검토 (코드를 작성했는데 예제를 가지고 어떻게 동작하는지 설명을 드리겠습니다 + 중간에 버그나 이런거 나오면 수정하면서 같이 진행하겠습니다)"
   ]
  },
  {
   "cell_type": "markdown",
   "metadata": {},
   "source": [
    "## 1. 회문판별\n",
    "\n",
    "- 조건 : string에 null이 올수 있나여, 소문자 대문자를 구분해야 되나여"
   ]
  },
  {
   "cell_type": "code",
   "execution_count": 6,
   "metadata": {},
   "outputs": [],
   "source": [
    "def is_palindrome(string):\n",
    "\tlength = len(string)\n",
    "\tfor idx in range(length//2):\n",
    "\t\tif string[idx] != string[length-1-idx]:\n",
    "\t\t\t\treturn False\n",
    "\treturn True"
   ]
  },
  {
   "cell_type": "code",
   "execution_count": 7,
   "metadata": {},
   "outputs": [
    {
     "data": {
      "text/plain": [
       "True"
      ]
     },
     "execution_count": 7,
     "metadata": {},
     "output_type": "execute_result"
    }
   ],
   "source": [
    "is_palindrome(\"aabaa\")"
   ]
  },
  {
   "cell_type": "code",
   "execution_count": 8,
   "metadata": {
    "scrolled": true
   },
   "outputs": [
    {
     "data": {
      "text/plain": [
       "False"
      ]
     },
     "execution_count": 8,
     "metadata": {},
     "output_type": "execute_result"
    }
   ],
   "source": [
    "is_palindrome(\"dsdsf\")"
   ]
  },
  {
   "cell_type": "markdown",
   "metadata": {},
   "source": [
    "## 2. 린트\n",
    "- 하나의 문자열과 라인 길이를 나타내는 숫자가 주어지고\n",
    "- 라인 길이만큼 문자열을 짜르고 줄바꿈 기호를 넣되\n",
    "- 문자열 안에 스페이스가 있을 경우 보기 좋게 하기 위해 스페이스가 있는 부분에서 줄바꿈 기호를 넣도록 구현\n",
    "\n",
    "### 질문\n",
    "- Null이 올 수 있는지? => 오면 string 그대로 리턴해라\n",
    "- max_line도 마이너스가 올 수 있는지, 0이 올수 있는지 : 마이너스는 올수 없고 0이상의 정수값만 온다\n",
    "- string, max_line의 최대값은? => 시스템이 지원하는 최대값\n",
    "- 한글, 알파벳, 특수문자도 올 수 있는지?\n",
    "- 이렇게 하면 그렇게 이쁘진 않을거같은데 이렇게 하면 될까요?"
   ]
  },
  {
   "cell_type": "code",
   "execution_count": 15,
   "metadata": {},
   "outputs": [],
   "source": [
    "def max_line_divider(string, max_line):\n",
    "    if string == None or max_line == None:\n",
    "        return\n",
    "    split_arr = string.split(' ')\n",
    "    for substr in split_arr:\n",
    "        if len(substr) > max_line:\n",
    "            for i in range(0, len(substr), max_line):\n",
    "                print(substr[i:max_line+i])\n",
    "        else:\n",
    "            print(substr)"
   ]
  },
  {
   "cell_type": "code",
   "execution_count": 16,
   "metadata": {
    "scrolled": true
   },
   "outputs": [
    {
     "name": "stdout",
     "output_type": "stream",
     "text": [
      "sfasf\n",
      "asdg\n",
      "dfsgs\n",
      "egs\n",
      "df\n",
      "dsege\n",
      "gsegs\n",
      "e\n",
      "dfsfd\n",
      "fsdfg\n",
      "sdgds\n",
      "gegsg\n",
      "ese\n"
     ]
    }
   ],
   "source": [
    "max_line_divider(\"sfasfasdg dfsgsegs df dsegegsegse dfsfdfsdfgsdgdsgegsgese\", 5)"
   ]
  },
  {
   "cell_type": "markdown",
   "metadata": {},
   "source": [
    "## 3. 주식의 고점\n",
    "\n",
    "- 특정 기간동안 가격변화가 주어졌을 때 그 주식 한주를 한번 사고 팔아 얻을 수 있는 최대 수익 계산\n",
    "- 리스트 형태로 원화 가격이 주어지고, 0번 인덱스가 가장 이전 시간, 그리고 순차적으로 해서 마지막 인덱스가 가장 나중 시간\n",
    "- 그래프 그려보기 + 최적화된 패턴(한방에 어려우면 - 시간을 생각해서 무식하게 한번 풀어보겠습니다 => 최적화해보겠습니다 이렇게 말해도 됨)\n",
    "- 이 코드의 시간 복잡도가 어느정도 되는지 말해주세요 가능 => 더 빨리는 안대나요?\n",
    "- **미리 어떻게 할지 이야기하는게 중요**(최적화된 코드를 한방에 할까요 아니면 걍 풀고 최적화해볼까여?)\n",
    "- **케이스 나누기** 직접 그려봐야함\n"
   ]
  },
  {
   "cell_type": "code",
   "execution_count": 18,
   "metadata": {},
   "outputs": [],
   "source": [
    "# O(n^2)\n",
    "\n",
    "def find_max_lazy(stock_prices):\n",
    "    last_date = len(stock_prices)\n",
    "    max_profit = [0,0,0]\n",
    "    \n",
    "    for buy_date in range(last_date-1):\n",
    "        for sell_date in range(buy_date+1, last_date):\n",
    "            profit = stock_prices[sell_date] - stock_prices[buy_date]\n",
    "            if profit > max_profit[0]:\n",
    "                max_profit = [profit, buy_date, sell_date]\n",
    "    return max_profit"
   ]
  },
  {
   "cell_type": "code",
   "execution_count": 28,
   "metadata": {},
   "outputs": [],
   "source": [
    "# 최소값에서 가장 높이 올라간 지점까지를 최대 수익으로 놓고 계속 갱신하기. 최소값 따라가서\n",
    "\n",
    "def find_max(stock_prices):\n",
    "    last_date = len(stock_prices)\n",
    "    max_profit = [0,0,0]\n",
    "    max_price, min_price = 0, 10000\n",
    "    max_buydate, min_buydate = 0, 0\n",
    "    \n",
    "    for buy_date in range(last_date-1):\n",
    "        if stock_prices[buy_date] < min_price:\n",
    "            min_price = stock_prices[buy_date]\n",
    "            min_buydate = buy_date\n",
    "        else: \n",
    "            new_price = stock_prices[buy_date] - min_price\n",
    "            if new_price > max_price:\n",
    "                max_price = new_price\n",
    "                max_buydate = buy_date\n",
    "            \n",
    "    return [max_price, min_buydate, max_buydate]"
   ]
  },
  {
   "cell_type": "code",
   "execution_count": 29,
   "metadata": {},
   "outputs": [
    {
     "data": {
      "text/plain": [
       "[2700, 4, 9]"
      ]
     },
     "execution_count": 29,
     "metadata": {},
     "output_type": "execute_result"
    }
   ],
   "source": [
    "stocks = [1000,2000,3000,800,400,700,1400,1200,2200,3100,1800,1900,2800]\n",
    "\n",
    "find_max_lazy(stocks)"
   ]
  },
  {
   "cell_type": "code",
   "execution_count": 30,
   "metadata": {},
   "outputs": [
    {
     "data": {
      "text/plain": [
       "[2700, 4, 9]"
      ]
     },
     "execution_count": 30,
     "metadata": {},
     "output_type": "execute_result"
    }
   ],
   "source": [
    "find_max(stocks)"
   ]
  }
 ],
 "metadata": {
  "kernelspec": {
   "display_name": "Python 3",
   "language": "python",
   "name": "python3"
  },
  "language_info": {
   "codemirror_mode": {
    "name": "ipython",
    "version": 3
   },
   "file_extension": ".py",
   "mimetype": "text/x-python",
   "name": "python",
   "nbconvert_exporter": "python",
   "pygments_lexer": "ipython3",
   "version": "3.7.6"
  }
 },
 "nbformat": 4,
 "nbformat_minor": 4
}
