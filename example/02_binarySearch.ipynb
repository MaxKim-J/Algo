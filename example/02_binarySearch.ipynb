{
 "cells": [
  {
   "cell_type": "markdown",
   "metadata": {},
   "source": [
    "# 02_이분탐색\n",
    "2020.04.11  \n",
    "이분탐색 개념 + 응용문제들(복습)  \n",
    "뭔가 아 이건 이분탐색으로 풀어야지! 싶은 감이 잘 안와서 정리해본다"
   ]
  },
  {
   "cell_type": "markdown",
   "metadata": {},
   "source": [
    "## 기본적인 개념\n",
    "- 순차탐색은 처음부터 끝까지 순회하면서 뭔지 찾아야하는데 너무 오래걸린다\n",
    "- 이분탐색 수행할 이터러블 자료형이 정렬되어있다는 전제 하에 이터러블 자료형의 중간을 따서 찾아야 할 값이 큰지 작은지 판단하면 탐색 시간을 줄일 수 있다"
   ]
  },
  {
   "cell_type": "code",
   "execution_count": 6,
   "metadata": {},
   "outputs": [],
   "source": [
    "def binary_search(data,search):\n",
    "    if len(data) == 0:\n",
    "        return False\n",
    "    \n",
    "    if len(data) == 1:\n",
    "        if search == data[0]:\n",
    "            return True\n",
    "        else:\n",
    "            return False\n",
    "    \n",
    "    medium = len(data)//2\n",
    "    if search == data[medium]:\n",
    "        return True\n",
    "    else:\n",
    "        if search > data[medium]:\n",
    "            return binary_search(data[medium:], search)\n",
    "        else:\n",
    "            return binary_search(data[:medium], search)"
   ]
  },
  {
   "cell_type": "code",
   "execution_count": 7,
   "metadata": {},
   "outputs": [],
   "source": [
    "test_arr = [55,66,44,55,33,44,89,88,1102,223,252]\n",
    "test_arr.sort()"
   ]
  },
  {
   "cell_type": "code",
   "execution_count": 8,
   "metadata": {},
   "outputs": [
    {
     "name": "stdout",
     "output_type": "stream",
     "text": [
      "True\n"
     ]
    }
   ],
   "source": [
    "print(binary_search(test_arr, 88))"
   ]
  },
  {
   "cell_type": "code",
   "execution_count": 9,
   "metadata": {},
   "outputs": [
    {
     "name": "stdout",
     "output_type": "stream",
     "text": [
      "False\n"
     ]
    }
   ],
   "source": [
    "print(binary_search(test_arr, 48))"
   ]
  },
  {
   "cell_type": "markdown",
   "metadata": {},
   "source": [
    "## 예제1) 백준 1920번 수찾기"
   ]
  },
  {
   "cell_type": "code",
   "execution_count": 10,
   "metadata": {},
   "outputs": [
    {
     "name": "stdout",
     "output_type": "stream",
     "text": [
      "5\n",
      "4 1 5 2 3\n",
      "5\n",
      "1 3 7 9 5\n",
      "1\n",
      "1\n",
      "0\n",
      "0\n",
      "1\n"
     ]
    }
   ],
   "source": [
    "# start, end, mid 변수를 사용한 이분탐색\n",
    "\n",
    "def binary_search(arr, key):\n",
    "    start, end = 0, len(arr)-1\n",
    "    # 기억1. end와 start의 관계 => 시작부터 엔드가 스타트보다는 인덱스 값이 높을텐데 그러면 계속 돌아가구\n",
    "    # 마지막에 수가 없어서 못찾았을 때 end가 start를 먹거나 start가 end를 먹거나 한다\n",
    "    while end >= start:\n",
    "        mid = (start + end) // 2\n",
    "        if key < arr[mid]:\n",
    "            # end를 줄인다\n",
    "            end = mid - 1\n",
    "        elif key == arr[mid]:\n",
    "            return 1\n",
    "        else:\n",
    "            # 스타트를 늘린다\n",
    "            start = mid + 1\n",
    "    return 0\n",
    "\n",
    "\n",
    "data_num = int(input())\n",
    "num_list = list(map(int, input().split()))\n",
    "find_num = int(input())\n",
    "find_list = list(map(int, input().split()))\n",
    "\n",
    "num_list.sort()\n",
    "\n",
    "for key in find_list:\n",
    "    print(binary_search(num_list, key))"
   ]
  },
  {
   "cell_type": "markdown",
   "metadata": {},
   "source": [
    "## 예제2) 백준 10816번 숫자카드2"
   ]
  },
  {
   "cell_type": "code",
   "execution_count": 11,
   "metadata": {},
   "outputs": [
    {
     "name": "stdout",
     "output_type": "stream",
     "text": [
      "10\n",
      "6 3 2 10 10 10 -10 -10 7 3\n",
      "8\n",
      "10 9 -5 2 3 4 5 -10\n",
      "3 0 0 1 2 0 0 2 "
     ]
    }
   ],
   "source": [
    "# 이분탐색 안쓴 야매풀이\n",
    "\n",
    "data_num = input()\n",
    "data_list = list(map(int, input().split()))\n",
    "\n",
    "find_num = input()\n",
    "find_list = list(map(int, input().split()))\n",
    "\n",
    "# 딕셔너리를 사용해 순회하면서 수를 세서 정보를 저장 \n",
    "data_dict = {}\n",
    "for n in data_list:\n",
    "    try:\n",
    "        data_dict[n] += 1\n",
    "    except:\n",
    "        data_dict[n] = 1\n",
    "\n",
    "answer = []\n",
    "# 찾아야 하는 숫자의 배열을 순회하면서 딕셔너리에서 해당 숫자의 개수를 배열에 넣는다\n",
    "for m in find_list:\n",
    "    try:\n",
    "        answer.append((data_dict[m]))\n",
    "    except:\n",
    "        answer.append(0)\n",
    "\n",
    "# 배열 출력하면서 리턴\n",
    "for i in answer:\n",
    "    print(i, end=' ')"
   ]
  },
  {
   "cell_type": "code",
   "execution_count": 13,
   "metadata": {},
   "outputs": [
    {
     "name": "stdout",
     "output_type": "stream",
     "text": [
      "10\n",
      "6 3 2 10 10 10 -10 -10 7 3\n",
      "8\n",
      "10 9 -5 2 3 4 5 -10\n",
      "3 0 0 1 2 0 0 2\n"
     ]
    }
   ],
   "source": [
    "# 이분탐색 사용한 풀이\n",
    "\n",
    "_ = input()\n",
    "N = sorted(map(int,input().split()))\n",
    "_ = input()\n",
    "M = map(int,input().split())\n",
    "\n",
    "# 이것도 앞 문제랑 똑같은 이분탐색\n",
    "def binary(n, N, start, end):\n",
    "    # 기억1. 스타트와 엔드가 서로의 영역을 침범하는 순간 이분탐색은 끝난다\n",
    "    if start > end:\n",
    "        return 0\n",
    "    m = (start+end)//2\n",
    "    # 기억2. 얘같은 경우는 정렬된 상태니까 같은 카드들이 붙어있고, 이분탐색한 결과에도 다 붙어있으니 수를 셀수있다\n",
    "    if n == N[m]:\n",
    "        return N[start:end+1].count(n)\n",
    "    elif n < N[m]:\n",
    "        return binary(n, N, start, m-1)\n",
    "    else:\n",
    "        return binary(n, N, m+1, end)\n",
    "\n",
    "n_dic = {}\n",
    "for n in N:\n",
    "    start = 0\n",
    "    end = len(N) - 1\n",
    "    if n not in n_dic:\n",
    "        # 수를 세서 딕셔너리 안에 넣는다 + 이미 넣은건 순회하지 않음\n",
    "        n_dic[n] = binary(n, N, start, end)\n",
    "\n",
    "print(' '.join(str(n_dic[x]) if x in n_dic else '0' for x in M ))"
   ]
  },
  {
   "cell_type": "markdown",
   "metadata": {},
   "source": [
    "## 예제3) 백준 1654번 랜선 자르기\n",
    "- parametic search : 이분탐색을 응용하여 최소 최대값 찾기\n",
    "- 순회에서 mid를 증가시켜야 할때는 start를 mid로 올리고, 감소시켜야 할때는 end를 mid로 내린다\n",
    "- 어쨋든 순회해서 뭔가 찾기는 해야되는데 순차탐색으로 찾을 때 너무 오래걸리는 경우 사용해볼법하다\n",
    "- 순차탐색으로 접근했으면 max값에서 하나씩 줄여서 랜선을 다 나눠봤을 것 => 너무 오래걸린다 => 그럼 이분탐색을 도입해보자"
   ]
  },
  {
   "cell_type": "code",
   "execution_count": 1,
   "metadata": {},
   "outputs": [
    {
     "name": "stdout",
     "output_type": "stream",
     "text": [
      "4 11\n",
      "802\n",
      "743\n",
      "457\n",
      "539\n",
      "200\n"
     ]
    }
   ],
   "source": [
    "K, N = map(int, input().split())\n",
    "lan = [int(input()) for _ in range(K)]\n",
    "start, end = 1, max(lan)\n",
    "\n",
    "# 기억 1. 여기서 max값은 max(lan)이 된다(가지고 있는 랜선중에 가장 긴것)\n",
    "# 가지고 있고 + 변형할 수 있는 랜선의 총 범위에서 이분탐색을 진행해가며\n",
    "# 입력만큼의 랜선의 길이를 만들 수 있는 길이를 출력한다\n",
    "\n",
    "while start <= end:  \n",
    "    # 기억 2. max로 설정된 값을 mid로 계속 줄여나가면서 가능한 길이를 찾는 방법\n",
    "    # 하나씩 순차적으로 찾으면 너무 오래걸리고, 특정한 단위로 찾으면 지나칠수도 있음\n",
    "    mid = (start + end) // 2  \n",
    "    lines = 0  # 랜선 수\n",
    "    \n",
    "    for i in lan:\n",
    "        lines += i // mid  \n",
    "        \n",
    "    # 나눌 수 있는 랜선의 숫자가 필요한 랜선의 길이보다 많으면\n",
    "    # 다음 순회에서 mid를 증가시켜야하므로 start를 올린다\n",
    "    if lines >= N: \n",
    "        start = mid + 1\n",
    "    # 반대로, 나눌수 있는 랜선의 길이가 적으면 mid를 감소시켜야 하므로 end를 낮춘다\n",
    "    else:\n",
    "        end = mid - 1\n",
    "        \n",
    "print(end)"
   ]
  },
  {
   "cell_type": "markdown",
   "metadata": {},
   "source": [
    "## 예제4) 백준 2805 나무자르기\n",
    "\n",
    "- 렌선 자르기랑 거의 똑같은 아이디어, 나무 리스트에 있는 나무들을 모두 잘라야 된다는것은 변하지 않는데\n",
    "- 그 기준을 찾을때 이분탐색을 적용 가능한 것. slices가 n보다 커지면 mid 증가시켜서 더 잘라봐야되고\n",
    "- slices가 n보다 작을 때는 mid 감소시켜서 자른다(더 많은 Slice가 나옴)"
   ]
  },
  {
   "cell_type": "code",
   "execution_count": 1,
   "metadata": {},
   "outputs": [
    {
     "name": "stdout",
     "output_type": "stream",
     "text": [
      "4 7\n",
      "20 15 10 17\n",
      "15\n"
     ]
    }
   ],
   "source": [
    "K, N = map(int, input().split())\n",
    "trees = list(map(int, input().split()))\n",
    "start, end = 1, max(trees)\n",
    "\n",
    "while start <= end:\n",
    "    mid = (start + end) // 2\n",
    "    # 기억1. 여기도 랜선자르기랑 비슷한 부분\n",
    "    # mid를 만들고 나무 리스트를 순회해서 다 잘라봄\n",
    "    slices = 0\n",
    "    for tree in trees:\n",
    "        if tree >= mid:\n",
    "            slices += (tree - mid)\n",
    "    # 탐색의 범위를 줄여야 한다는 것을 명심!!\n",
    "    if slices >= N:\n",
    "        start = mid + 1\n",
    "    else:\n",
    "        end = mid - 1\n",
    "print(end)"
   ]
  },
  {
   "cell_type": "markdown",
   "metadata": {},
   "source": [
    "## 예제5) 공유기 설치"
   ]
  },
  {
   "cell_type": "code",
   "execution_count": null,
   "metadata": {},
   "outputs": [],
   "source": [
    "# 풀이 1) 조금 구구절절한 풀이\n",
    "\n",
    "N, C = map(int,(input().split()))\n",
    "\n",
    "# 이런식으로도 리스트 입력 받을 수 있음\n",
    "house = [int(input()) for _ in range(N)]\n",
    "\n",
    "# 해당 거리를 유지하며 공유기가 몇 개 설치될 수 있는가? 를 알아보는 함수\n",
    "def router_counter(distance):\n",
    "    count = 1\n",
    "    cur_house = house[0] \n",
    "    for i in range(1, N): \n",
    "        # 이전 집에서 해당 거리보다 멀리 떨어진 집이라면 == 공유기 설치하기\n",
    "        if cur_house + distance <= house[i]: \n",
    "            count += 1\n",
    "            #공유기 설치된 집 갱신\n",
    "            cur_house = house[i] \n",
    "    return count\n",
    "\n",
    "# 이분탐색을 하는 부분\n",
    "house = sorted(house)\n",
    "start, end = 1, house[-1] - house[0] \n",
    "\n",
    "# 그 해당 거리를 이분탐색으로 순회해서 함수에 넣어주는 것임\n",
    "# 가장 인접한 두 공유기 사이의 거리가 최대\n",
    "while start <= end:\n",
    "    mid = (start+end) // 2\n",
    "    if router_counter(mid) >= C:\n",
    "        answer = mid\n",
    "        start = mid + 1\n",
    "    else:\n",
    "        end = mid - 1\n",
    "\n",
    "print(answer)"
   ]
  }
 ],
 "metadata": {
  "kernelspec": {
   "display_name": "Python 3",
   "language": "python",
   "name": "python3"
  },
  "language_info": {
   "codemirror_mode": {
    "name": "ipython",
    "version": 3
   },
   "file_extension": ".py",
   "mimetype": "text/x-python",
   "name": "python",
   "nbconvert_exporter": "python",
   "pygments_lexer": "ipython3",
   "version": "3.7.3"
  }
 },
 "nbformat": 4,
 "nbformat_minor": 4
}
