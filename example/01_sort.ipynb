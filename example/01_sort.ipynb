{
 "cells": [
  {
   "cell_type": "markdown",
   "metadata": {},
   "source": [
    "# 01_정렬\n",
    " \n",
    "그동안 배웠던 정렬 알고리즘들 정리 + 신찬수교수님 알고리즘 강의 + 쉽게 배우는 알고리즘\n",
    "\n",
    "- 정렬알고리즘의 목표 : 비교횟수와 교환횟수를 최소화해서 빠르게 만들어야한다\n",
    "- 파이썬의 정렬함수 : A.sort()\n",
    "\n",
    "## 정렬의 성질\n",
    "1. stable(안정정렬) 여부 : 같은 숫자가 원래 입력에 있었던 순서를 유지하면서 정렬되는 경우, 그렇지 않으면 불안정정렬\n",
    "2. in-place 여부 : O(1)만큼의 메모리를 추가로 사용해서(변수 몇개만 추가해서) 리스트의 요소를 정렬(in-place), O(n) 메모리 추가하면 not-in-place, 공간복잡도 이야기\n",
    "\n",
    "## 버블, 선택, 삽입정렬\n",
    "1. 간단하지만 느림\n",
    "2. n-1번의 라운드를 거침\n",
    "3. 수행시간 `O(n^2)` \n",
    "5. 인플레이스 여부 : 매라운드마다 맥시멈을 찾고 스왑 등등 할때 상수개 변수면 가능(인플래이스임!) \n",
    "6. 안정정렬 여부\n",
    "    1. 선택정렬 : 멀리 떨어진 배열 요소와 교환하므로 안정성이 없다\n",
    "    2. 버블정렬, 삽입정렬 : 바로 옆의 값과 비교 및 교환하므로 안정성을 가진다"
   ]
  },
  {
   "cell_type": "markdown",
   "metadata": {},
   "source": [
    "## 1. 버블정렬\n",
    "\n",
    "<img src=\"https://img1.daumcdn.net/thumb/R800x0/?scode=mtistory2&fname=https%3A%2F%2Ft1.daumcdn.net%2Fcfile%2Ftistory%2F275F9A4A545095BD01\"/>\n",
    "\n",
    "### flow\n",
    "1. 배열을 순회하며 어떤 요소가 바로 뒤의 요소보다 큰지 작은지 따짐\n",
    "2. 배열의 처음부터 시작해서 뒤의 요소와 비교\n",
    "3. 크면 지금 순회하고 있는 요소와 바로 뒤의 요소의 위치를 바꿈\n",
    "4. 작거나 같으면 냅두고 다음 요소와 그 바로 뒤의 요소를 비교 \n",
    "5. 이러면 자연스럽게 큰 원소가 뒤로 가게 된다는 아이디어\n",
    "5. 배열 원소가 n개일 때 n-1번의 비교를 수행하면 오름차순으로 정렬된 배열이 나옴\n",
    "\n",
    "### feature\n",
    "- 수행시간 : `O(n^2)` : n-1 번의 비교에서(n-1) * 배열의 첫 요소부터 정렬이 완료되지 않은 요소까지 비교(약 n)\n",
    "- 정렬이 이미 된 원소들의 경우 검토할 필요가 없음\n",
    "- 순서 바꾸기가 배열을 순회하면서 한번도 실행되지 않았을 경우에는 이미 정렬된 상태의 배열임(굳이 다음 비교를 수행할 필요가 없음)\n",
    "\n",
    "\n",
    "### ✨chansoo\n",
    "- 뽀글뽀글 오른쪽 이동, 각 인덱스의 숫자들을 모두 비교하여 큰값을 오른쪽으로 보낸다\n",
    "- 1라운드를 거치면 가장 큰값이 밀리고밀려서 오른쪽으로 온다, 정렬된 배열은 냅두고 남은 배열을 또 그런식으로 정렬\n",
    "- n-1의 라운드 + 왼쪽 끝에서부터 모두 비교(n(n-1)//2), 스왑 하기도 안하기도\n",
    "- 최악의 경우에는 계에에에속 스왑(내림차순을 오름차순으로 바꾸는 식의...), 스왑은 n-1, n-2, .... ,1 = n(n-1)//2\n",
    "- 선택정렬보다 교환에서 더 많은 일을 해야할 수도 있음, 선택정렬보다 스왑을 많이 해야함\n",
    "- 결과) 최악의경우 : 비교 n(n-1)//2, 스왑 n(n-1)//2\n",
    "\n",
    "\n",
    "### code"
   ]
  },
  {
   "cell_type": "code",
   "execution_count": 1,
   "metadata": {},
   "outputs": [],
   "source": [
    "def bubble_sort(arr):\n",
    "    # 기억 1. n-1번의 비교\n",
    "    for idx in range(len(arr)-1):\n",
    "        swap = False\n",
    "        \n",
    "        # 기억 2. 이미 정렬된 맨 뒤의 배열은 비교 안해도됨(len(arr)-비교횟수-1)\n",
    "        for idx2 in range(len(arr)-idx-1):\n",
    "            if arr[idx2] > arr[idx2+1]:\n",
    "                arr[idx2], arr[idx2+1] = arr[idx2+1], arr[idx2]\n",
    "                swap = True\n",
    "                \n",
    "        # 기억 3. 이미 정렬된 배열이라고 판단이 났다면 비교 자체를 그냥 끝내도 됨\n",
    "        if not swap:\n",
    "            break\n",
    "        print(arr)\n",
    "    return arr"
   ]
  },
  {
   "cell_type": "code",
   "execution_count": 2,
   "metadata": {},
   "outputs": [
    {
     "name": "stdout",
     "output_type": "stream",
     "text": [
      "[2, 5, 3, 1, 6, 4, 8, 7, 10]\n",
      "[2, 3, 1, 5, 4, 6, 7, 8, 10]\n",
      "[2, 1, 3, 4, 5, 6, 7, 8, 10]\n",
      "[1, 2, 3, 4, 5, 6, 7, 8, 10]\n",
      "[1, 2, 3, 4, 5, 6, 7, 8, 10]\n"
     ]
    }
   ],
   "source": [
    "test_arr = [10,2,5,3,1,6,4,8,7]\n",
    "\n",
    "# 과정까지\n",
    "print(bubble_sort(test_arr))"
   ]
  },
  {
   "cell_type": "markdown",
   "metadata": {},
   "source": [
    "## 2. 선택정렬\n",
    "<img src=\"https://img1.daumcdn.net/thumb/R800x0/?scode=mtistory2&fname=https%3A%2F%2Ft1.daumcdn.net%2Fcfile%2Ftistory%2F256B9C34545081D835\"/>\n",
    "\n",
    "### flow\n",
    "1. 배열의 순회를 시작하면서 맨 앞값부터 `stand(기준값)`으로 설정\n",
    "2. `stand`를 제외한 배열의 나머지 요소들중 가장 작은 값을 찾음\n",
    "3. 찾은 가장 작은 값을 `stand`의 위치와 바꿔줌 \n",
    "4. 배열의 마지막 요소를 제외하고 모든 값이 한번씩 `stand`가 되었다면 끝남\n",
    "\n",
    "### feature\n",
    "- 수행시간 : `O(n^2)` : stand값을 계속 순회(n-1) * 남은 배열 모두 순회하며 최소값 찾기(약 n)\n",
    "- 배열 요소 n개 중 n-1번 stand순회 발생\n",
    "- 값을 비교하여 뒤로 보냈던 버블정렬과는 반대로, 뒤의 값 중 값을 골라서 앞에 위치시킴 \n",
    "- 최소값을 \"선택\"해서 정렬\n",
    "\n",
    "### ✨ chansoo\n",
    "- n-1번의 각자 라운드에서 최대값을 찾아서 배열의 마지막값과 계속 바꿈 or 그반대(최소값을 찾아서 배열의 앞부분과 계속 바꿈) + 정렬한 배열 볼필요 없음\n",
    "- 매 라운드마다 n개 중에 맥시멈+n-1번의 비교 => n-1개 중에 맥시멈+n-2번의 비교 => .... => 마지막은 1번의 비교\n",
    "- 그렇다면 비교는 n-1 + n-1 + ... +1 = n(n-1)//2번 이뤄지고, 스왑은 각 라운드당 1번 일어나니 n-1번의 스왑이 일어남\n",
    "- 결과) 최악의경우 : 비교 n(n-1)//2, 스왑 n-1 \n",
    "\n",
    "\n",
    "### code"
   ]
  },
  {
   "cell_type": "code",
   "execution_count": 3,
   "metadata": {},
   "outputs": [],
   "source": [
    "def selection_sort(arr):\n",
    "    # 기억 1. stand는 배열 요소의 n-1번째까지\n",
    "    for stand in range(len(arr)-1):\n",
    "        lowest = stand\n",
    "        # 기억 2. 순회하며 최소값을 찾아내고\n",
    "        for idx in range(stand+1, len(arr)):\n",
    "            if arr[idx] < arr[lowest]:\n",
    "                lowest = idx\n",
    "        # 기억 3. 순회가 끝나고 swap\n",
    "        arr[lowest], arr[stand] = arr[stand], arr[lowest]\n",
    "        print(arr)\n",
    "    return arr"
   ]
  },
  {
   "cell_type": "code",
   "execution_count": 4,
   "metadata": {},
   "outputs": [
    {
     "name": "stdout",
     "output_type": "stream",
     "text": [
      "[1, 2, 5, 3, 10, 6, 4, 8, 7]\n",
      "[1, 2, 5, 3, 10, 6, 4, 8, 7]\n",
      "[1, 2, 3, 5, 10, 6, 4, 8, 7]\n",
      "[1, 2, 3, 4, 10, 6, 5, 8, 7]\n",
      "[1, 2, 3, 4, 5, 6, 10, 8, 7]\n",
      "[1, 2, 3, 4, 5, 6, 10, 8, 7]\n",
      "[1, 2, 3, 4, 5, 6, 7, 8, 10]\n",
      "[1, 2, 3, 4, 5, 6, 7, 8, 10]\n",
      "[1, 2, 3, 4, 5, 6, 7, 8, 10]\n"
     ]
    }
   ],
   "source": [
    "test_arr = [10,2,5,3,1,6,4,8,7]\n",
    "\n",
    "print(selection_sort(test_arr))"
   ]
  },
  {
   "cell_type": "markdown",
   "metadata": {},
   "source": [
    "## 3. 삽입정렬\n",
    "<img src=\"https://img1.daumcdn.net/thumb/R800x0/?scode=mtistory2&fname=https%3A%2F%2Ft1.daumcdn.net%2Fcfile%2Ftistory%2F2569FD3854508BE811\"/>\n",
    "\n",
    "### flow\n",
    "1. 배열의 앞에서부터 시작되는 정렬 영역을 배열을 순회하며 더 커지게 하는 알고리즘임\n",
    "2. 처음에 배열을 순회하며 두번째 요소가 첫번째 요소보다 큰지 작은지 검사 => 작으면 앞으로 이동함(정렬된 가장 작은 배열)\n",
    "3. 그 다음 요소로 넘어가서 바로 앞부터 시작되는 정렬된 요소와 비교를 시작 => 정렬된 부분 중 자신보다 작은 값을 만날때까지 반복\n",
    "4. 정렬부분 뒤의 요소들이 앞으로 넘어오면서 자기 자리를 찾아가는 아이디어\n",
    "\n",
    "### feature\n",
    "- 수행시간 : `O(n^2)` : 값을 계속 순회(n-1) * 정렬된 부분 바로 뒤의 원소를 앞의 정렬 부분과 계속 비교(약 n)\n",
    "\n",
    "### ✨chansoo\n",
    "- i번째 까지의 배열에서 i+1 번째의 요소의 자리를 찾아준다\n",
    "- 1라운드 1비교 1스왑 가능, 2라운드 2비교 2스왑 가능, 3라운드 3비교 3스왑 가능 .... n-1라운드 n-1비교 n-1스왑 가능\n",
    "- 입력에 따라서 스왑을 다 할지 안 할지 결정됨, 이것도 선택정렬보다 스왑 많이 할 가능성 있음(버블정렬과 대응되는 정렬 방식임)\n",
    "- 최악의 경우 비교 n(n-1)//2, 스왑 n(n-1)//2\n",
    "\n",
    "### code"
   ]
  },
  {
   "cell_type": "code",
   "execution_count": 5,
   "metadata": {},
   "outputs": [],
   "source": [
    "def insertion_sort(arr):\n",
    "    for idx in range(len(arr)-1):\n",
    "        # 기억1. 정렬영역보다 1큰 요소부터 정렬영역의 맨 앞까지 하나씩 감소하며 비교하는데\n",
    "        for idx2 in range(idx+1, 0 ,-1):\n",
    "            # 기억2. 정렬영역에 있는 요소중에 더 큰 요소를 만나면 스왑함\n",
    "            if arr[idx2] < arr[idx2-1]:\n",
    "                arr[idx2], arr[idx2-1] = arr[idx2-1], arr[idx2]\n",
    "            # 기억3. 정렬영역에 있는 요소 중에 더 작은 요소를 만나면 비교를 멈춤\n",
    "            else:\n",
    "                break\n",
    "        print(arr)\n",
    "    return arr  "
   ]
  },
  {
   "cell_type": "code",
   "execution_count": 6,
   "metadata": {},
   "outputs": [
    {
     "name": "stdout",
     "output_type": "stream",
     "text": [
      "[2, 10, 5, 3, 1, 6, 4, 8, 7]\n",
      "[2, 5, 10, 3, 1, 6, 4, 8, 7]\n",
      "[2, 3, 5, 10, 1, 6, 4, 8, 7]\n",
      "[1, 2, 3, 5, 10, 6, 4, 8, 7]\n",
      "[1, 2, 3, 5, 6, 10, 4, 8, 7]\n",
      "[1, 2, 3, 4, 5, 6, 10, 8, 7]\n",
      "[1, 2, 3, 4, 5, 6, 8, 10, 7]\n",
      "[1, 2, 3, 4, 5, 6, 7, 8, 10]\n",
      "[1, 2, 3, 4, 5, 6, 7, 8, 10]\n"
     ]
    }
   ],
   "source": [
    "test_arr = [10,2,5,3,1,6,4,8,7]\n",
    "\n",
    "print(insertion_sort(test_arr))"
   ]
  },
  {
   "cell_type": "markdown",
   "metadata": {},
   "source": [
    "## 4. 퀵정렬\n",
    "<img src=\"https://img1.daumcdn.net/thumb/R800x0/?scode=mtistory2&fname=https%3A%2F%2Ft1.daumcdn.net%2Fcfile%2Ftistory%2F271D2B3354545F7A13\" width=\"600\" height=\"700\" />\n",
    "\n",
    "### flow\n",
    "1. 배열 요소 중에 기준점을 하나 정한다. 보통 맨 앞이나 뒤를 기준점으로 잡는다.\n",
    "2. 기준점을 하나 정했으면 기준점보다 작은 데이터는 기준점의 왼쪽으로, 큰 데이터는 오른쪽으로 보내서 배열을 재배열\n",
    "3. 나눠진 왼쪽 부분과 오른쪽 부분에 대해 다시 재귀적으로 기준점을 하나 정해서 왼쪽과 오른쪽을 나눈다\n",
    "4. 정렬될때까지 반복한다. 그렇게 쪼개고 쪼개다가 쪼갤 배열의 요소가 하나만 남았을 때 호출을 멈춘다\n",
    "\n",
    "### feature\n",
    "- 분할 정복으로 풀린다고 할 수 있다 => 뭐 재귀가 분할정복인거지만\n",
    "- 수행시간 `O(nlogn)` :  재귀 단계가 logn개(배열 요소가 n개일때), 비교는 n-1번 이루어지므로 n-1 * logn = O(nlogn)\n",
    "\n",
    "### code(not-in-place)"
   ]
  },
  {
   "cell_type": "code",
   "execution_count": 7,
   "metadata": {},
   "outputs": [],
   "source": [
    "def quick_sort(arr):\n",
    "    # 기억 1. 피벗 지정하고 쪼갤 원소가 하나밖에 안남았을 때 왼쪽 오른쪽 못나눔 => 종료\n",
    "    # 두개만 남아도 수행할 수 있음 \n",
    "    if len(arr) <= 1:\n",
    "        return arr\n",
    "    \n",
    "    pivot = arr[0]\n",
    "    left = [elem for elem in arr[1:] if pivot>elem]\n",
    "    right = [elem for elem in arr[1:] if pivot<=elem]\n",
    "    # 기억 2. 분할정복, 재귀함수를 사용한다\n",
    "    return quick_sort(left) + [pivot] + quick_sort(right)"
   ]
  },
  {
   "cell_type": "code",
   "execution_count": 8,
   "metadata": {
    "scrolled": true
   },
   "outputs": [
    {
     "name": "stdout",
     "output_type": "stream",
     "text": [
      "[1, 2, 3, 4, 5, 6, 7, 8, 10]\n"
     ]
    }
   ],
   "source": [
    "test_arr = [10,2,5,3,1,6,4,8,7]\n",
    "\n",
    "print(quick_sort(test_arr))"
   ]
  },
  {
   "cell_type": "markdown",
   "metadata": {},
   "source": [
    "### code(in-place)"
   ]
  },
  {
   "cell_type": "code",
   "execution_count": 4,
   "metadata": {},
   "outputs": [],
   "source": [
    "# 인플레이스 퀵소트 알고리즘\n",
    "def quickSort(A, first, last):\n",
    "    # A의 first부터 last인덱스 사이의 값을 퀵소트로 정렬해라\n",
    "    p = A[first]\n",
    "    # 또다른 리스트에 집어넣지 말고 기존의 리스트 재배치\n",
    "    left, right = first + 1, last\n",
    "    \n",
    "    # 피벗 왼 오 나누는 과정\n",
    "    while left <= right:\n",
    "        # left는 피벗 다음 인덱스부터 시작해 가장 먼저 발견된 피벗보다 큰 값에서 멈춘다\n",
    "        while left<=last and A[left]<p:\n",
    "            left += 1\n",
    "        # right는 맨 마지막 값부터 시작해 거꾸로 가장 먼저 발견된 피벗보다 작은 값에서 멈춘다\n",
    "        while A[right] > p:\n",
    "            right -= 1\n",
    "        # left가 right보다 작다면 둘을 스왑하고 다음 값을 보기 시작한다\n",
    "        if left<=right:\n",
    "            A[left],A[right] = A[right], A[left]\n",
    "            left += 1\n",
    "            rigth -= 1\n",
    "        # 결과적으로 [피벗, 피벗보다 작은얘, 피벗보다 큰얘] 이렇게됨 right은 left의 끝을, left는 right의 시작점을 가리킴\n",
    "        A[first], A[right] = A[right], A[first]\n",
    "        \n",
    "    quickSort(A, first, right-1)\n",
    "    qucikSort(A, left, last)"
   ]
  },
  {
   "cell_type": "markdown",
   "metadata": {},
   "source": [
    "### ✨chansoo\n",
    "\n",
    "1. 인플레이스 여부 : 재귀적으로 계속 배열을 복사해재끼므로 인플레이스가 아니다\n",
    "2. 안정정렬 여부 : 입력의 순서에 맞춰 차례대로 배열에 들어가니, 순서를 유지해서 들어가게된다 => 안정정렬\n",
    "3. 수행시간 : 배열에서 피봇 제외한 숫자에 대한 n-1번의 비교\n",
    "    - T(n) = T(|s|) + T(|L|) + cn\n",
    "    - 워스트 케이스(=계속 한쪽만 있는 경우) : T(n) = T(n-1)+cn = O(n^2)\n",
    "        - n번의 비교를 각 요소의 수만큼 n번 반복 = n*n\n",
    "        - 삽입정렬처럼 됨\n",
    "        - 데이터들이 정렬되있거나 역순으로 정렬되어 있을 때 뿐인데, 이런 경우는 드물다고 할 수 있다\n",
    "    - 베스트 케이스(=양쪽이 균등한 경우) : T(n) = 2T(n/2) + cn = O(nlogn)\n",
    "        - n/2, 요소 수 절반만큼의 비교를 각 라운드마다 반복\n",
    "        - 계속 양쪽으로 잘 쪼개지면, log2n만큼의 분할을 하게 됨(k=log2n)\n",
    "        - 분할을 모든 요소 개수만큼 수행하므로 n*log2n, n번 비교를 log2n만큼 반복한다!\n",
    "    - 드문 최악의 경우를 고려하지 않으면, 평균적으로는 O(nlogn)시간이 걸린다고 말할 수 있음\n",
    "    \n",
    "4. 단점 - 인플레이스가 아니라는 것 : 보완하기\n",
    "\n",
    "\n",
    "\n",
    "\n"
   ]
  },
  {
   "cell_type": "markdown",
   "metadata": {},
   "source": [
    "## 5. 병합정렬\n",
    "<img src=\"https://www.geeksforgeeks.org/wp-content/uploads/Merge-Sort-Tutorial.png\"/>\n",
    "\n",
    "### flow\n",
    "1. 배열을 계속 절반씩 나눈다(하나의 배열을 두개로) 절반을 나눈 배열들을 또 절반을 나눈다 재귀적으로 더이상 나눌수 없을 때까지\n",
    "2. 더이상 나눌 수 없는 상태까지 나눈 배열의 요소들은 하나씩일텐데, 그 상태에서 다시 병합을 시도한다\n",
    "3. 두개의 배열을 차차 하나로 합치는데, 이때 정렬된 상태로 배열을 합친다\n",
    "4. 다시 원 배열이 될때까지 배열을 합치면 그 배열은 정렬된 상태로 리턴된다\n",
    "\n",
    "### feature\n",
    "- 이것도 분할 정복으로 풀린다고 할 수 있다 => 하나일때까지 나누고 합치면서 다시 정렬 => 정렬에 관해서는 작은 배열들을 상향식으로 정렬하고 있어서\n",
    "- 다시 배열을 합칠 때 두개의 배열을 놓고 두개 배열의 원소들을 순회하면서 조건부로 합치는 배열에 넣어준다\n",
    "- 병합을 진행하는 배열들은 모두 정렬되어있다. 심지어 1개짜리도 원소가 1개니까 그 자체로 정렬되있는거임\n",
    "- 수행시간 `O(nlogn)` :  배열을 하나짜리 배열로 나누고 합치는데까지 logn번(배열 요소가 1개일때까지) + 그 단계에서 배열의 모든 원소를 훑으므로 n을 곱함\n",
    "\n",
    "### ✨chansoo\n",
    "1. 갈라진거 병합할때 n번의 비교, n번의 이동(cn)\n",
    "2. 인플레이스 : 갈라진 배열들을 새로 병합하여 사용하므로 인플레이스가 아님 \n",
    "3. 수행시간:\n",
    "    - T(n) = 2T(n/2)(강제로 나눔) + cn(병합 - 비교 스왑 다 합쳐봤자 n : 퀵소트의 베스트케이스) = O(nlogn)\n",
    "    - 최적 정렬 알고리즘\n",
    "\n",
    "### code"
   ]
  },
  {
   "cell_type": "code",
   "execution_count": 9,
   "metadata": {},
   "outputs": [],
   "source": [
    "# 함수 1) 나눠진걸 합치는 병합함수\n",
    "\n",
    "def merge_sort_merge(left,right):\n",
    "    merged = []\n",
    "    \n",
    "    # 기억3. 갈라진 배열을 다시 합칠때는 각 배열들의 원소를 순회하는데\n",
    "    # 이때 조건에 맞게 그 배열들의 요소를 결과 배열에 합치면서 병합을 진행한다\n",
    "    \n",
    "    # 요 포인트라는 변수들은 지금 왼쪽 오른쪽 배열에서 몇개까지 정렬이 끝났는지 표시함\n",
    "    # 배열의 길이가 포인트 변수보다 클 경우는 아직 정렬해야할 원소가 남았다는 것이고\n",
    "    # 작을 경우는 이미 다 정렬했다는 것\n",
    "    left_point, right_point = 0, 0\n",
    "    \n",
    "    # 조건1: 양쪽 배열 모두 남은 원소가 있을 때\n",
    "    while (len(left) > left_point) and (len(right) > right_point):\n",
    "        # 양쪽 배열 모두 살아있을 때는 정렬해야할 인덱스해서 큰 값을 결과 배열에 먼저 넣는다(그래야 정렬되기 때문)\n",
    "        if left[left_point] > right[right_point]:\n",
    "            merged.append(right[right_point])\n",
    "            right_point +=1\n",
    "        else:\n",
    "            merged.append(left[left_point])\n",
    "            left_point += 1\n",
    "            \n",
    "    # 기억4. 만약 한쪽 배열 원소가 다 소진되었다면, 남은 쪽의 원소들을 모두 합치면 된다\n",
    "    # 왜냐면 합치는 배열들은 모두 \"정렬되었다는\" 가정을 바탕으로 존재하기 때문이다\n",
    "    \n",
    "    # 조건2 : 왼쪽만 남은 경우\n",
    "    while len(left) > left_point:\n",
    "        merged.append(left[left_point])\n",
    "        left_point += 1\n",
    "        \n",
    "    # 조건 3 : 오른쪽만 남은 경우\n",
    "    while len(right) > right_point:\n",
    "        merged.append(right[right_point])\n",
    "        right_point += 1\n",
    "        \n",
    "    return merged"
   ]
  },
  {
   "cell_type": "code",
   "execution_count": 10,
   "metadata": {},
   "outputs": [],
   "source": [
    "# 함수 2) 원래 하나였던 배열을 나누는 분할함수\n",
    "\n",
    "def merge_sort_split(arr):\n",
    "    # 기억1. 배열의 원소가 하나가 남을때까지 분할한다\n",
    "    if len(arr) <= 1:\n",
    "        return arr\n",
    "    medium = len(arr)//2\n",
    "    left, right = merge_sort_split(arr[:medium]), merge_sort_split(arr[medium:])\n",
    "    \n",
    "    # 기억2. 배열의 원소가 하나가 남을때까지 분할이 된 후, 병합이 시작된다(split함수 호출 후 return문이 실행되므로)\n",
    "    return merge_sort_merge(left,right)"
   ]
  },
  {
   "cell_type": "code",
   "execution_count": 11,
   "metadata": {},
   "outputs": [
    {
     "name": "stdout",
     "output_type": "stream",
     "text": [
      "[1, 2, 3, 4, 5, 6, 7, 8, 10]\n"
     ]
    }
   ],
   "source": [
    "test_arr = [10,2,5,3,1,6,4,8,7]\n",
    "\n",
    "print(merge_sort_split(test_arr))"
   ]
  },
  {
   "cell_type": "markdown",
   "metadata": {},
   "source": [
    "## 6. 계수 정렬\n",
    "<img width=\"900\" height=\"300\" src=\"https://s3.ap-northeast-2.amazonaws.com/yaboong-blog-static-resources/algo/counting-sort-stable.png\"/>\n",
    "정렬할 배열에 들어갈 숫자의 범위가 정해진 경우(어떤 수를 넘지 않는 경우) 유용한 정렬 방법\n",
    "\n",
    "### flow\n",
    "1. 별건 없음. 정렬할 배열에 들어갈 수 있는 수의 범위를 인덱스로 몽땅 가지고 있는 큰 배열을 하나 선언(+0으로 몽땅 초기화)\n",
    "2. 배열을 순회하면서 그 수와 동일한 인덱스에 해당하는 큰 배열의 값을 1 증가시켜줌 \n",
    "3. 마지막엔 큰 배열을 순회하면서 1이상인 수들의 인덱스를 모아놓은 배열을 리턴하면 그게 정렬된 배열임\n",
    "\n",
    "### features\n",
    "- 수행시간 `O(n)` : 배열을 몇 번(두번)순회만 하면 정렬된 배열이 뙇 나오므로 n. 나름 정렬 알고리즘 중에는 빠른 편임. \n",
    "- 범위가 정해진 수의 정렬에는 무족권 써야함 젤빠름 ㄹㅇ\n",
    "\n",
    "### code"
   ]
  },
  {
   "cell_type": "code",
   "execution_count": 12,
   "metadata": {},
   "outputs": [],
   "source": [
    "# 정렬되지 않은 배열에 들어갈 수 있는 최대가 인자로 주어진다 가정하자\n",
    "\n",
    "def counting_sort(max_val,arr):\n",
    "    count = [0]*(max_val+1)\n",
    "    for num in arr:\n",
    "        count[num] += 1\n",
    "    result = []\n",
    "    for idx in range(max_val+1):\n",
    "        if count[idx] > 0:\n",
    "            result += [idx]*count[idx]\n",
    "            \n",
    "    return result"
   ]
  },
  {
   "cell_type": "code",
   "execution_count": 13,
   "metadata": {},
   "outputs": [
    {
     "name": "stdout",
     "output_type": "stream",
     "text": [
      "[1, 2, 3, 4, 5, 6, 7, 8, 10]\n"
     ]
    }
   ],
   "source": [
    "test_arr = [10,2,5,3,1,6,4,8,7]\n",
    "\n",
    "print(counting_sort(10, test_arr))"
   ]
  },
  {
   "cell_type": "markdown",
   "metadata": {},
   "source": [
    "## 7. 힙정렬\n",
    "![힙소트](https://t1.daumcdn.net/cfile/tistory/23674C4C570B6AD104)\n",
    "\n",
    "### ✨chansoo\n",
    "1. 수행시간\n",
    "    - 힙의 높이 : log2n\n",
    "        - 왜? : 힙의 요소가 n개일 때 n=1, h=0/n=2,3 h=1/n=4,5,6,7 h=2/....이므로 \n",
    "        - 힙의 요소가 n개일 때 높이 h는 log2n\n",
    "    - 히피파이 다운 : 최대 logn(루트에서부터 리프까지 내려갈 수 있으므로)\n",
    "    - 힙소트 : 루프 n-1(n-1번의 비교) * (루트와 리프의 스왑(1) + 히피파이 다운(logn)) = O(nlogn)\n",
    "    - 선택정렬과의 차이 : 선택정렬은 max나 min을 찾을때 O(n)을 소비하는데 => O(n^2), 힙에서는 max나 min찾을 때 O(1) => O(nlogn)\n",
    "        - 합으로 따지면 : max/min 찾는 시간 => 선택정렬 : n(n-1)//2번, 힙정렬 : n-1번\n",
    "    - 인플레이스 여부 : 따로 자료형 선언 안했으므로 인플레이스\n",
    "    - 안정정렬 여부 : 아님, 리스트의 가장 앞으로 보낼때(요소를 멀리 보내기 때문에) 인풋의 순서가 안 지켜질 수 있음"
   ]
  },
  {
   "cell_type": "code",
   "execution_count": 75,
   "metadata": {},
   "outputs": [],
   "source": [
    "# 여기서의 heap은 minheap\n",
    "def make_heap(arr, n):\n",
    "  for i in range(n//2, -1, -1):\n",
    "  # n//2는 루트가 아닌 노드 중 맨 마지막 노드의 인덱스\n",
    "    heapify(arr, i, n)\n",
    "\n",
    "def heapify(arr, k, n):\n",
    "    left, right = 2*k+1, 2*k+2\n",
    "    \n",
    "    # 양쪽 자식을 다 가지고 있는 경우\n",
    "    if right <= n:\n",
    "        if arr[left] < arr[right]:\n",
    "          smaller = left\n",
    "        else:\n",
    "          smaller = right\n",
    "        \n",
    "    # 왼쪽 자식만 가진 경우\n",
    "    elif left <= n:\n",
    "        smaller = left\n",
    "        \n",
    "    # 리프노드인 경우\n",
    "    else:\n",
    "        return\n",
    "    # 재귀적으로 따라가면서 리프까지 내리기, 아닌 경우 그냥 종료\n",
    "    if arr[smaller] < arr[k]:\n",
    "        arr[k], arr[smaller] = arr[smaller], arr[k]\n",
    "        heapify(arr, smaller, n)"
   ]
  },
  {
   "cell_type": "code",
   "execution_count": 81,
   "metadata": {},
   "outputs": [],
   "source": [
    "def heap_sort(arr, n):\n",
    "    make_heap(arr,n)\n",
    "    # n-1번 도는 for문, i는 맨 끝 인덱스를 가리킴\n",
    "    print(arr)\n",
    "    for last in range(n, 0, -1):\n",
    "        arr[0], arr[last] = arr[last], arr[0]\n",
    "        # 루트에서 내려간 노드 하나를 제외한후 루트에 대하여 히피파이(i-1)\n",
    "        heapify(arr, 0, last-1)"
   ]
  },
  {
   "cell_type": "code",
   "execution_count": 82,
   "metadata": {},
   "outputs": [
    {
     "name": "stdout",
     "output_type": "stream",
     "text": [
      "[3, 4, 5, 6, 7, 8, 9, 10, 11]\n",
      "[11, 10, 9, 8, 7, 6, 5, 4, 3]\n"
     ]
    }
   ],
   "source": [
    "test = [11,4,5,6,7,8,9,10,3]\n",
    "heap_sort(test, 8)\n",
    "\n",
    "print(test)"
   ]
  },
  {
   "cell_type": "markdown",
   "metadata": {},
   "source": [
    "## 8. 참고)비교횟수의 하한\n",
    "\n",
    "갓찬수갓고리즘 - 비교횟수하한 참고  \n",
    "어떤 정렬에 대해 최소 몇번 이상의 비교는 해야 결과가 나오냐는 것 \n",
    "\n",
    "- 정렬 가능한 방법은 정렬할 원소의 퍼뮤테이션\n",
    "- 퍼뮤테이션을 만들기 위한 비교는 반드시 해야한다(결정트리의 리프에 도달하지 못한다)"
   ]
  },
  {
   "cell_type": "markdown",
   "metadata": {},
   "source": [
    "### 정렬할 n개 값에 대한 결정트리\n",
    "![결정트리](../_img/limit.jpg)\n",
    "\n",
    "- 이 경우 결정트리의 리프노드는 n!\n",
    "- 정답은 n!개의 경우 중에 하나\n",
    "- 비교는 루트서부터 정답 리프까지 h번 비교(어떤 알고리즘도 입력에 대해서는 h번 비교해야함)\n",
    "- h는 최소 얼마?\n",
    "    - h의 하한은 적을수록 좋다. 가장 적게 만들려면\n",
    "    - 힙에서 n개의 리프를 가진다면 h>=log(n+1)\n",
    "    - 이경우에는 h>=log2n!\n",
    "    - n! = n * n-1 * n-2 ... * 1\n",
    "    - n/2까지 n/2를 곱해준다 => n! >= (n/2)^(n/2) nlogn개 이상의 비교가 필요\n",
    "    - h >= log2n! >= log2(n/2)^(n/2) >= (n/2)log2(n/2)\n",
    "    - **모든 정렬 알고리즘은 최소 O(nlogn)번의 비교가 필요**\n",
    "    - **항상 O(nlogn)에 해결하는 머지소트와 힙소트는 최적 정렬 알고리즘!**\n"
   ]
  }
 ],
 "metadata": {
  "kernelspec": {
   "display_name": "Python 3",
   "language": "python",
   "name": "python3"
  },
  "language_info": {
   "codemirror_mode": {
    "name": "ipython",
    "version": 3
   },
   "file_extension": ".py",
   "mimetype": "text/x-python",
   "name": "python",
   "nbconvert_exporter": "python",
   "pygments_lexer": "ipython3",
   "version": "3.7.3"
  }
 },
 "nbformat": 4,
 "nbformat_minor": 4
}
