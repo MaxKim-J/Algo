{
 "cells": [
  {
   "cell_type": "markdown",
   "metadata": {},
   "source": [
    "# 01_정렬\n",
    "2020.04.09  \n",
    "그동안 배웠던 정렬 알고리즘들 정리"
   ]
  },
  {
   "cell_type": "markdown",
   "metadata": {},
   "source": [
    "## 1. 버블정렬\n",
    "\n",
    "<img src=\"https://img1.daumcdn.net/thumb/R800x0/?scode=mtistory2&fname=https%3A%2F%2Ft1.daumcdn.net%2Fcfile%2Ftistory%2F275F9A4A545095BD01\"/>\n",
    "\n",
    "### flow\n",
    "1. 배열을 순회하며 어떤 요소가 바로 뒤의 요소보다 큰지 작은지 따짐\n",
    "2. 배열의 처음부터 시작해서 뒤의 요소와 비교\n",
    "3. 크면 지금 순회하고 있는 요소와 바로 뒤의 요소의 위치를 바꿈\n",
    "4. 작거나 같으면 냅두고 다음 요소와 그 바로 뒤의 요소를 비교 \n",
    "5. 이러면 자연스럽게 큰 원소가 뒤로 가게 된다는 아이디어\n",
    "5. 배열 원소가 n개일 때 n-1번의 비교를 수행하면 오름차순으로 정렬된 배열이 나옴\n",
    "\n",
    "### feature\n",
    "- 수행시간 : `O(n^2)` : n-1 번의 비교에서(n-1) * 배열의 첫 요소부터 정렬이 완료되지 않은 요소까지 비교(약 n)\n",
    "- 정렬이 이미 된 원소들의 경우 검토할 필요가 없음\n",
    "- 순서 바꾸기가 배열을 순회하면서 한번도 실행되지 않았을 경우에는 이미 정렬된 상태의 배열임(굳이 다음 비교를 수행할 필요가 없음)\n",
    "\n",
    "### code"
   ]
  },
  {
   "cell_type": "code",
   "execution_count": 11,
   "metadata": {},
   "outputs": [],
   "source": [
    "def bubble_sort(arr):\n",
    "    for idx in range(len(arr)-1):\n",
    "        swap = False\n",
    "        for idx2 in range(len(arr)-idx-1):\n",
    "            if arr[idx2] > arr[idx2+1]:\n",
    "                arr[idx2], arr[idx2+1] = arr[idx2+1], arr[idx2]\n",
    "                swap = True\n",
    "        if not swap:\n",
    "            break\n",
    "        print(arr)\n",
    "    return arr"
   ]
  },
  {
   "cell_type": "code",
   "execution_count": 12,
   "metadata": {},
   "outputs": [
    {
     "name": "stdout",
     "output_type": "stream",
     "text": [
      "[2, 5, 3, 1, 6, 4, 8, 7, 10]\n",
      "[2, 3, 1, 5, 4, 6, 7, 8, 10]\n",
      "[2, 1, 3, 4, 5, 6, 7, 8, 10]\n",
      "[1, 2, 3, 4, 5, 6, 7, 8, 10]\n",
      "[1, 2, 3, 4, 5, 6, 7, 8, 10]\n"
     ]
    }
   ],
   "source": [
    "test_arr = [10,2,5,3,1,6,4,8,7]\n",
    "\n",
    "# 과정까지\n",
    "print(bubble_sort(test_arr))"
   ]
  },
  {
   "cell_type": "markdown",
   "metadata": {},
   "source": [
    "## 2. 선택정렬\n",
    "<img src=\"https://img1.daumcdn.net/thumb/R800x0/?scode=mtistory2&fname=https%3A%2F%2Ft1.daumcdn.net%2Fcfile%2Ftistory%2F256B9C34545081D835\"/>\n",
    "\n",
    "### flow\n",
    "1. 배열의 순회를 시작하면서 맨 앞값부터 `stand(기준값)`으로 설정\n",
    "2. `stand`를 제외한 배열의 나머지 요소들중 가장 작은 값을 찾음\n",
    "3. 찾은 가장 작은 값을 `stand`의 위치와 바꿔줌 \n",
    "4. 배열의 마지막 요소를 제외하고 모든 값이 한번씩 `stand`가 되었다면 끝남\n",
    "\n",
    "### feature\n",
    "- 수행시간 : `O(n^2)` : stand값을 계속 순회(n-1) * 남은 배열 모두 순회하며 최소값 찾기(약 n)\n",
    "- 배열 요소 n개 중 n-1번 stand순회 발생\n",
    "- 값을 비교하여 뒤로 보냈던 버블정렬과는 반대로, 뒤의 값 중 값을 골라서 앞에 위치시킴 \n",
    "\n",
    "### code"
   ]
  },
  {
   "cell_type": "code",
   "execution_count": null,
   "metadata": {},
   "outputs": [],
   "source": [
    "def selection_sort(arr):\n",
    "    for stand in range(len(arr)-1):\n",
    "        lowest = stand\n",
    "        for idx in range(stand+1, len(arr)):\n",
    "            if arr[idx] < arr[lowest]:\n",
    "                lowest = idx\n",
    "        arr[lowest], arr[stand] = arr[stand], arr[lowest]"
   ]
  }
 ],
 "metadata": {
  "kernelspec": {
   "display_name": "Python 3",
   "language": "python",
   "name": "python3"
  },
  "language_info": {
   "codemirror_mode": {
    "name": "ipython",
    "version": 3
   },
   "file_extension": ".py",
   "mimetype": "text/x-python",
   "name": "python",
   "nbconvert_exporter": "python",
   "pygments_lexer": "ipython3",
   "version": "3.7.3"
  }
 },
 "nbformat": 4,
 "nbformat_minor": 4
}
